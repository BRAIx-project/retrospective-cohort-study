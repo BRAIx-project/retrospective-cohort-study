{
 "cells": [
  {
   "cell_type": "markdown",
   "id": "6c64cd41-1eb9-4e8f-90a3-850cec214348",
   "metadata": {},
   "source": [
    "## BRAIx - AI integration analysis"
   ]
  },
  {
   "cell_type": "code",
   "execution_count": null,
   "id": "84088a9c-51db-4f89-a933-ad3ee1533a32",
   "metadata": {},
   "outputs": [],
   "source": [
    "# Install the analysis package\n",
    "install.packages(\"BRAIxMOP_0.2.7.2_R_x86_64-pc-linux-gnu.tar.gz\", repos = NULL)\n",
    "packageVersion(\"BRAIxMOP\")"
   ]
  },
  {
   "cell_type": "markdown",
   "id": "378ff61d-f3fe-4755-864c-c44344e225a7",
   "metadata": {},
   "source": [
    "### Setup"
   ]
  },
  {
   "cell_type": "code",
   "execution_count": null,
   "id": "030402bd-3de3-410d-98f7-4e0e5c88c8fc",
   "metadata": {
    "flow": {
     "color": "#264653",
     "component_id": "030402bd-3de3-410d-98f7-4e0e5c88c8fc",
     "component_name": "Setup",
     "parents_name": [],
     "time_elapsed": 525,
     "timestamp_completion": "2024-05-08T08:03:59.985Z",
     "timestamp_execution": "2024-05-08T08:03:59.460Z",
     "updated": true
    },
    "jupyter": {
     "source_hidden": true
    }
   },
   "outputs": [],
   "source": [
    "#Setup\n",
    "# Set up paths\n",
    "data_path <- \"~/data-source/\"\n",
    "project_path <- \"./\"\n",
    "setwd(project_path)\n",
    "\n",
    "# Set up libraries and helper functions\n",
    "library(BRAIxMOP)\n",
    "library(dplyr)\n",
    "source(\"renv/activate.R\")\n",
    "source(\"helpers.R\")\n",
    "\n",
    "# Set up working folder\n",
    "root_path <- \"temp\"\n",
    "input_path <- sprintf(\"./%s/data\", root_path)\n",
    "output_path <- sprintf(\"./%s/output\", root_path)\n",
    "for (p in c(root_path, input_path, output_path)) {\n",
    "    if (!dir.exists(p)) dir.create(p)\n",
    "}\n",
    "output <- \\(x = \"\") file.path(output_path, x)\n",
    "message(\"Input path: \", input_path)\n",
    "message(\"Output path: \", output_path)\n",
    "\n",
    "# Set up source data\n",
    "for (f in c(\"reader_test.csv\", \"reader_dev.csv\", \"model_test.csv\", \"model_dev.csv\")) {\n",
    "    if (file.exists(file.path(data_path, f)) && !file.exists(file.path(input_path, f))) {\n",
    "        file.copy(file.path(data_path, f), file.path(input_path, f))\n",
    "    }\n",
    "}"
   ]
  },
  {
   "cell_type": "markdown",
   "id": "4ce4b56c-3bd7-43c5-bf13-54a5d3663443",
   "metadata": {},
   "source": [
    "### Prepare data for simulation"
   ]
  },
  {
   "cell_type": "code",
   "execution_count": null,
   "id": "5e6c735c-793a-4fab-9eac-6eae0de26af0",
   "metadata": {
    "editable": true,
    "flow": {
     "color": "#2a9d8f",
     "component_id": "5e6c735c-793a-4fab-9eac-6eae0de26af0",
     "component_name": "Set up simulation data (test)",
     "parents_name": [
      "Setup"
     ],
     "time_elapsed": 136907,
     "timestamp_completion": "2024-03-08T15:19:43.143Z",
     "timestamp_execution": "2024-03-08T15:17:26.236Z",
     "updated": false
    },
    "jupyter": {
     "source_hidden": true
    },
    "scrolled": true,
    "slideshow": {
     "slide_type": ""
    },
    "tags": []
   },
   "outputs": [],
   "source": [
    "#Set up simulation data (test)\n",
    "setup(input_path, output_path, is_test = TRUE)"
   ]
  },
  {
   "cell_type": "code",
   "execution_count": null,
   "id": "3cd72821-a7d9-4c2f-a843-4d6c3c83d56f",
   "metadata": {
    "flow": {
     "color": "#2a9d8f",
     "component_id": "3cd72821-a7d9-4c2f-a843-4d6c3c83d56f",
     "component_name": "Set up simulation data (dev)",
     "parents_name": [
      "Setup"
     ],
     "time_elapsed": 64338,
     "timestamp_completion": "2024-03-08T15:17:19.220Z",
     "timestamp_execution": "2024-03-08T15:16:14.882Z",
     "updated": false
    },
    "jupyter": {
     "source_hidden": true
    },
    "scrolled": true
   },
   "outputs": [],
   "source": [
    "#Set up simulation data (dev)\n",
    "setup(input_path, output_path, is_test = FALSE)"
   ]
  },
  {
   "cell_type": "code",
   "execution_count": null,
   "id": "f1e8999e-0aef-4ab3-9fd2-5e7d9c1879c7",
   "metadata": {
    "flow": {
     "color": "#2a9d8f",
     "component_id": "f1e8999e-0aef-4ab3-9fd2-5e7d9c1879c7",
     "component_name": "Compute reader performance (dev)",
     "parents_name": [
      "Set up simulation data (dev)"
     ],
     "time_elapsed": 7629,
     "timestamp_completion": "2024-03-08T16:20:50.886Z",
     "timestamp_execution": "2024-03-08T16:20:43.257Z",
     "updated": false
    },
    "jupyter": {
     "source_hidden": true
    },
    "scrolled": true
   },
   "outputs": [],
   "source": [
    "#Compute reader performance (dev)\n",
    "# Compute reader performance\n",
    "get_reader_performance_for_matching(\n",
    "  reader_file = output(\"reader_df-dev.RDS\"),\n",
    "  output_directory = output_path,\n",
    "  is_test = FALSE\n",
    ") |> invisible()"
   ]
  },
  {
   "cell_type": "code",
   "execution_count": null,
   "id": "1e5a7ffd-bcc7-4275-bff7-57233d647e45",
   "metadata": {
    "flow": {
     "color": "#2a9d8f",
     "component_id": "1e5a7ffd-bcc7-4275-bff7-57233d647e45",
     "component_name": "Compute reader performance (test)",
     "parents_name": [
      "Set up simulation data (test)"
     ],
     "time_elapsed": 55185,
     "timestamp_completion": "2024-03-08T16:47:01.177Z",
     "timestamp_execution": "2024-03-08T16:46:05.992Z",
     "updated": false
    },
    "jupyter": {
     "source_hidden": true
    },
    "scrolled": true
   },
   "outputs": [],
   "source": [
    "#Compute reader performance (test)\n",
    "# Needed for the ROC figure for comparison\n",
    "get_reader_performance_for_matching(\n",
    "  reader_file = output(\"reader_df.RDS\"),\n",
    "  output_directory = output_path,\n",
    "  is_test = TRUE\n",
    ") |> invisible()"
   ]
  },
  {
   "cell_type": "code",
   "execution_count": null,
   "id": "60a56b5c-71f1-4933-a078-1966120e7e75",
   "metadata": {
    "flow": {
     "color": "#2a9d8f",
     "component_id": "60a56b5c-71f1-4933-a078-1966120e7e75",
     "component_name": "Find AI threshold to match reader performance on dev (for AI replacement)",
     "parents_name": [
      "Compute reader performance (dev)"
     ],
     "time_elapsed": 118854,
     "timestamp_completion": "2024-03-08T16:44:36.554Z",
     "timestamp_execution": "2024-03-08T16:42:37.700Z",
     "updated": false
    },
    "jupyter": {
     "source_hidden": true
    },
    "scrolled": true
   },
   "outputs": [],
   "source": [
    "#Find AI threshold to match reader performance on dev (for AI replacement)\n",
    "# Get thresholds\n",
    "get_ai_threshold_and_performance(\n",
    "  readRDS(output(\"model_df-dev.RDS\")),\n",
    "  readRDS(output(\"reader_performance-dev.RDS\")),\n",
    "  output_path, F, sort(c(seq(0, 0.9, 0.02), seq(0.9, 0.99, 0.001)))\n",
    ") |> invisible()"
   ]
  },
  {
   "cell_type": "code",
   "execution_count": null,
   "id": "7bc758e6-69f8-4007-adc3-34d1447d904a",
   "metadata": {
    "flow": {
     "color": "#2a9d8f",
     "component_id": "7bc758e6-69f8-4007-adc3-34d1447d904a",
     "component_name": "Get thresholds for AI band-pass",
     "parents_name": [
      "Compute reader performance (dev)"
     ],
     "time_elapsed": 2120935,
     "timestamp_completion": "2024-03-08T17:42:30.597Z",
     "timestamp_execution": "2024-03-08T17:07:09.662Z",
     "updated": false
    },
    "jupyter": {
     "source_hidden": true
    },
    "scrolled": true
   },
   "outputs": [],
   "source": [
    "#Get thresholds for AI band-pass\n",
    "consensus_dev <- readRDS(output(\"reader_df-dev.RDS\")) |>\n",
    "  filter(reader_number == 1) |>\n",
    "  get_consensus_performance()\n",
    "\n",
    "get_ai_threshold_and_performance_bandpass(\n",
    "  readRDS(output(\"model_df-dev.RDS\")),\n",
    "  consensus_dev,\n",
    "  output_path,\n",
    "  readRDS(output(\"accession_df-dev.RDS\")),\n",
    "  readRDS(output(\"reader_df-dev.RDS\")),\n",
    "  seq(0, 0.99, 0.01)\n",
    ") |> invisible()"
   ]
  },
  {
   "cell_type": "code",
   "execution_count": null,
   "id": "3d17b475-741e-432b-a592-4998554a4899",
   "metadata": {
    "flow": {
     "color": "#e9c46a",
     "component_id": "3d17b475-741e-432b-a592-4998554a4899",
     "component_name": "Inspect reader and AI performance",
     "parents_name": [
      "Find AI threshold to match reader performance on dev (for AI replacement)",
      "Get thresholds for AI band-pass"
     ],
     "time_elapsed": 743,
     "timestamp_completion": "2024-04-18T01:47:20.647Z",
     "timestamp_execution": "2024-04-18T01:47:19.904Z",
     "updated": false
    },
    "jupyter": {
     "source_hidden": true
    },
    "scrolled": true
   },
   "outputs": [],
   "source": [
    "#Inspect reader and AI performance\n",
    "env <- list()\n",
    "env$reader_performance_dev <- readRDS(output(\"reader_performance-dev.RDS\"))\n",
    "env$reader_performance_dev$mean_reader$weight <- NULL\n",
    "env$reader_performance_dev$mean_reader$tpr <- NULL\n",
    "env$reader_performance_dev$mean_reader$fpr <- NULL\n",
    "message(\"Reader performance\")\n",
    "print(env$reader_performance_dev)\n",
    "\n",
    "env$ai_performance <- readRDS(output(\"AI_performance.RDS\"))\n",
    "env$ai_performance$model_thresholded_df <- NULL\n",
    "env$ai_performance$search_log <- NULL\n",
    "env$ai_performance$search_grid <- NULL\n",
    "message(\"AI standalone performance\")\n",
    "print(env$ai_performance)\n",
    "\n",
    "env$ai_performance_band_pass <- readRDS(output(\"AI_performance_bandpass.RDS\"))\n",
    "env$ai_performance_band_pass$search_log <- NULL\n",
    "message(\"AI band-pass performance\")\n",
    "print(env$ai_performance_band_pass)"
   ]
  },
  {
   "cell_type": "code",
   "execution_count": null,
   "id": "64312fe8-1788-4832-a5a2-af6d0a710b36",
   "metadata": {
    "flow": {
     "color": "#e9c46a",
     "component_id": "64312fe8-1788-4832-a5a2-af6d0a710b36",
     "component_name": "Plot summary of data",
     "parents_name": [
      "Get thresholds for AI band-pass",
      "Find AI threshold to match reader performance on dev (for AI replacement)"
     ],
     "time_elapsed": 3996,
     "timestamp_completion": "2024-04-01T04:33:31.437Z",
     "timestamp_execution": "2024-04-01T04:33:27.441Z",
     "updated": false
    },
    "jupyter": {
     "source_hidden": true
    }
   },
   "outputs": [],
   "source": [
    "#Plot summary of data\n",
    "# Load data from files\n",
    "model_df_roc <- roc(readRDS(output(\"model_df.RDS\")))\n",
    "model_df_dev_roc <- roc(readRDS(output(\"model_df-dev.RDS\")))\n",
    "\n",
    "reader_df_dev <- readRDS(output(\"reader_df-dev.RDS\"))\n",
    "consensus_dev <- reader_df_dev |>\n",
    "  filter(reader_number == 1) |>\n",
    "  get_consensus_performance()\n",
    "\n",
    "reader_df <- readRDS(output(\"reader_df.RDS\"))\n",
    "consensus <- reader_df |>\n",
    "  filter(reader_number == 1) |>\n",
    "  get_consensus_performance()\n",
    "\n",
    "reader_perf <- readRDS(output(\"reader_performance.RDS\"))\n",
    "reader_perf_dev <- readRDS(output(\"reader_performance-dev.RDS\"))\n",
    "ai_perf <- readRDS(output(\"AI_performance.RDS\"))\n",
    "ai_perf_bp <- readRDS(output(\"AI_performance_bandpass.RDS\"))\n",
    "\n",
    "\n",
    "# Plot\n",
    "options(repr.plot.width = 11, repr.plot.height = 10)\n",
    "par(las = 1)\n",
    "lightgray_alpha <- rgb(0, 0, 0, max = 255, alpha = 10, names = \"lightgray_alpha\")\n",
    "\n",
    "# Model\n",
    "plot(model_df_roc, cex.axis = 1.75, cex.lab = 1.75)\n",
    "lines(model_df_dev_roc, col = \"blue\")\n",
    "with(ai_perf$model_performance, \n",
    "     points(TNR, TPR, pch = 19, col = \"orange\", cex = 2))\n",
    "with(ai_perf_bp$model_performance,\n",
    "     points(TNR, TPR, pch = 15, col = \"brown\", cex = 2))\n",
    "\n",
    "# Human\n",
    "# (dev set)\n",
    "with(reader_perf_dev$mean_reader, \n",
    "     points(1 - fpr, tpr, cex = weight * 100, col = lightgray_alpha, pch = 19))\n",
    "with(reader_perf_dev$mean_reader, \n",
    "     points(1 - weighted_fpr, weighted_tpr, col = \"pink\", pch = 19, cex = 2))\n",
    "with(reader_perf_dev$mean_reader_by_position, \n",
    "     points(1 - weighted_fpr, weighted_tpr, col = \"lightblue\", pch = 17, cex = 1.1))\n",
    "with(consensus_dev, points(TNR, TPR, pch = 15, col = \"green\", cex = 2))\n",
    "\n",
    "# (test set)\n",
    "with(reader_perf$mean_reader, \n",
    "     points(1 - fpr, tpr, cex = weight * 100, col = lightgray_alpha, pch = 19))\n",
    "with(reader_perf$mean_reader, \n",
    "     points(1 - weighted_fpr, weighted_tpr, col = \"red\", pch = 19, cex = 2))\n",
    "with(reader_perf$mean_reader_by_position, \n",
    "     points(1 - weighted_fpr, weighted_tpr, col = \"blue\", pch = 17, cex = 1.1))\n",
    "with(consensus, points(TNR, TPR, pch = 15, col = \"darkgreen\", cex = 2))\n",
    "    \n",
    "legend(\n",
    "    \"bottomright\",\n",
    "    lwd = c(1, 1, NA, NA, NA, NA, NA, NA, NA),\n",
    "    pch = c(NA, NA, 19, 15, 15, 15, 19, 19, 17),\n",
    "    c(\n",
    "        sprintf(\"Model ROC (test) - AUC: %.2f\", pROC::auc(model_df_roc)), \n",
    "        sprintf(\"Model ROC (dev) - AUC: %.2f\", pROC::auc(model_df_dev_roc)),\n",
    "        \"AI standalone (matched)\", \n",
    "        \"AI band-pass\",\n",
    "        \"Consensus (dev)\",\n",
    "        \"Consensus (test)\",\n",
    "        \"Readers\",\n",
    "        \"Mean reader (weighted)\",\n",
    "        \"Mean reader by position (weighted)\"\n",
    "    ),\n",
    "    col = c(\"black\", \"blue\", \"orange\", \"brown\", \"green\", \"darkgreen\", lightgray_alpha, \"red\", \"blue\"),\n",
    "    cex = 1\n",
    ")"
   ]
  },
  {
   "cell_type": "code",
   "execution_count": null,
   "id": "d5977051-11b8-443d-88d9-de7f36fa9430",
   "metadata": {
    "flow": {
     "component_id": "d5977051-11b8-443d-88d9-de7f36fa9430",
     "component_name": "Inspect reader performance by position",
     "parents_name": [
      "Plot summary of data"
     ],
     "updated": false
    },
    "jupyter": {
     "source_hidden": true
    }
   },
   "outputs": [],
   "source": [
    "#Inspect reader performance by position\n",
    "reader_perf_dev$mean_reader_by_position\n",
    "reader_perf$mean_reader_by_position"
   ]
  },
  {
   "cell_type": "markdown",
   "id": "c0b3139d-4601-4f6a-be99-45b52e2f8c56",
   "metadata": {},
   "source": [
    "## Simulation studies"
   ]
  },
  {
   "cell_type": "code",
   "execution_count": null,
   "id": "32281ee4-ea62-4c7a-a4a5-afa83e0c56f3",
   "metadata": {
    "flow": {
     "color": "#2a9d8f",
     "component_id": "32281ee4-ea62-4c7a-a4a5-afa83e0c56f3",
     "component_name": "Check pre-processed data for simulation",
     "parents_name": [
      "Setup"
     ],
     "time_elapsed": 136,
     "timestamp_completion": "2024-05-08T08:04:03.366Z",
     "timestamp_execution": "2024-05-08T08:04:03.230Z",
     "updated": true
    },
    "jupyter": {
     "source_hidden": true
    },
    "scrolled": true
   },
   "outputs": [],
   "source": [
    "#Check pre-processed data for simulation\n",
    "required_files <- c(\n",
    "    \"model_df.RDS\", \"model_df-dev.RDS\",\n",
    "    \"reader_df.RDS\", \"reader_df-dev.RDS\",\n",
    "    \"accession_df.RDS\", \"accession_df-dev.RDS\",\n",
    "    \"AI_performance.RDS\", \"AI_performance_bandpass.RDS\"\n",
    ")\n",
    "\n",
    "stopifnot(\n",
    "    all(unlist(Map(required_files, f = \\(x) file.exists(output(x)))))\n",
    ")"
   ]
  },
  {
   "cell_type": "code",
   "execution_count": null,
   "id": "287652e2-65d9-4a1d-84a2-d0bd57292f50",
   "metadata": {
    "flow": {
     "color": "#264653",
     "component_id": "287652e2-65d9-4a1d-84a2-d0bd57292f50",
     "component_name": "Load pre-processed data for simulation",
     "parents_name": [
      "Check pre-processed data for simulation"
     ],
     "time_elapsed": 3909,
     "timestamp_completion": "2024-04-18T01:46:59.156Z",
     "timestamp_execution": "2024-04-18T01:46:55.247Z",
     "updated": false
    },
    "jupyter": {
     "source_hidden": true
    }
   },
   "outputs": [],
   "source": [
    "#Load pre-processed data for simulation\n",
    "accession_df <- readRDS(output(\"accession_df.RDS\"))\n",
    "model_df <- readRDS(output(\"model_df.RDS\"))\n",
    "reader_df <- readRDS(output(\"reader_df.RDS\"))\n",
    "\n",
    "ai_performance <- readRDS(output(\"AI_performance.RDS\"))\n",
    "ai_performance_bandpass <- readRDS(output(\"AI_performance_bandpass.RDS\"))"
   ]
  },
  {
   "cell_type": "code",
   "execution_count": null,
   "id": "5ca716d7-a24f-4660-baa7-a8c69dce8eea",
   "metadata": {
    "flow": {
     "color": "#e76f51",
     "component_id": "5ca716d7-a24f-4660-baa7-a8c69dce8eea",
     "component_name": "Model / Data summary",
     "parents_name": [
      "Load pre-processed data for simulation"
     ],
     "time_elapsed": 21,
     "timestamp_completion": "2024-03-28T02:04:26.297Z",
     "timestamp_execution": "2024-03-28T02:04:26.276Z",
     "updated": false
    },
    "jupyter": {
     "source_hidden": true
    }
   },
   "outputs": [],
   "source": [
    "#Model / Data summary\n",
    "# Organising blocks (empty)"
   ]
  },
  {
   "cell_type": "code",
   "execution_count": null,
   "id": "8e739a26-766f-4e9a-bfa0-74aa9c76771e",
   "metadata": {
    "flow": {
     "color": "#e9c46a",
     "component_id": "8e739a26-766f-4e9a-bfa0-74aa9c76771e",
     "component_name": "Compare reader and AI model",
     "parents_name": [
      "Model / Data summary"
     ],
     "updated": false
    },
    "jupyter": {
     "source_hidden": true
    }
   },
   "outputs": [],
   "source": [
    "#Compare reader and AI model\n",
    "reader_perf <- readRDS(output(\"reader_performance.RDS\"))\n",
    "reader_perf$mean_reader$weight <- NULL\n",
    "reader_perf$mean_reader$tpr <- reader_perf$mean_reader$fpr <- NULL\n",
    "c(reader_perf$mean_reader$weighted_tpr, 1 - reader_perf$mean_reader$weighted_fpr)\n",
    "ai_performance$model_performance"
   ]
  },
  {
   "cell_type": "code",
   "execution_count": null,
   "id": "ef2dc940-7b4f-4fa6-a176-89459b4ba1b3",
   "metadata": {
    "flow": {
     "color": "#e9c46a",
     "component_id": "ef2dc940-7b4f-4fa6-a176-89459b4ba1b3",
     "component_name": "Generate reader ROC",
     "parents_name": [
      "Model / Data summary"
     ],
     "time_elapsed": 664022,
     "timestamp_completion": "2024-03-28T02:16:04.449Z",
     "timestamp_execution": "2024-03-28T02:05:00.427Z",
     "updated": false
    },
    "jupyter": {
     "source_hidden": true
    },
    "scrolled": true
   },
   "outputs": [],
   "source": [
    "#Generate reader ROC\n",
    "reader_roc(\n",
    "  reader_perf = reader_df,\n",
    "  model_pred = model_df\n",
    ")"
   ]
  },
  {
   "cell_type": "markdown",
   "id": "1b82bc60-32ac-47d7-9343-177e1d881da4",
   "metadata": {},
   "source": [
    "### AI band-pass scenario"
   ]
  },
  {
   "cell_type": "code",
   "execution_count": null,
   "id": "aafee104-e31b-4ec0-b565-84f84f8e0fb5",
   "metadata": {
    "flow": {
     "color": "#e76f51",
     "component_id": "aafee104-e31b-4ec0-b565-84f84f8e0fb5",
     "component_name": "Scenario analysis",
     "parents_name": [
      "Load pre-processed data for simulation"
     ],
     "time_elapsed": 385,
     "timestamp_completion": "2024-04-15T06:42:59.312Z",
     "timestamp_execution": "2024-04-15T06:42:58.927Z",
     "updated": false
    },
    "jupyter": {
     "source_hidden": true
    }
   },
   "outputs": [],
   "source": [
    "#Scenario analysis\n",
    "# Organising block\n",
    "target_file <- output(\"custom.RDS\")\n",
    "if (!file.exists(target_file)) {\n",
    "    emp_perf <- get_reader_summary(reader_df)$mean_reader_by_position  # Test performance\n",
    "    emp_tpr_3rd <- emp_perf$weighted_tpr[3]\n",
    "    emp_fpr_3rd <- emp_perf$weighted_fpr[3]       \n",
    "    custom <- c(emp_fpr_3rd, emp_tpr_3rd, emp_tpr_3rd, emp_fpr_3rd, emp_fpr_3rd)\n",
    "    save_RDS(custom, target_file)\n",
    "} else {\n",
    "    custom <- readRDS(target_file)\n",
    "}\n",
    "\n",
    "set.seed(1234)\n",
    "seeds <- c(1234, sample(1e8, 1e6))"
   ]
  },
  {
   "cell_type": "code",
   "execution_count": null,
   "id": "71bf9262-360f-4708-a79c-dc6a09625a48",
   "metadata": {
    "flow": {
     "color": "#e76f51",
     "component_id": "71bf9262-360f-4708-a79c-dc6a09625a48",
     "component_name": "AI band-pass scenario (group)",
     "parents_name": [
      "Scenario analysis"
     ],
     "time_elapsed": 4149,
     "timestamp_completion": "2024-03-22T07:19:25.566Z",
     "timestamp_execution": "2024-03-22T07:19:21.417Z",
     "updated": false
    },
    "jupyter": {
     "source_hidden": true
    }
   },
   "outputs": [],
   "source": [
    "#AI band-pass scenario (group)\n",
    "# Organising block (empty)"
   ]
  },
  {
   "cell_type": "code",
   "execution_count": null,
   "id": "23f2dd95-c7d8-4a2b-afea-d0ebadd5f8e9",
   "metadata": {
    "flow": {
     "color": "#264653",
     "component_id": "23f2dd95-c7d8-4a2b-afea-d0ebadd5f8e9",
     "component_name": "AI band-pass scenario",
     "parents_name": [
      "AI band-pass scenario (group)"
     ],
     "time_elapsed": 1618,
     "timestamp_completion": "2024-03-22T07:25:58.265Z",
     "timestamp_execution": "2024-03-22T07:25:56.647Z",
     "updated": false
    },
    "jupyter": {
     "source_hidden": true
    }
   },
   "outputs": [],
   "source": [
    "#AI band-pass scenario\n",
    "# Note that band-pass is deterministic and has no variation\n",
    "band_pass_result <- run_simulation(\n",
    "  run_fun = run_AI_bandpass,\n",
    "  accession_df = accession_df,\n",
    "  reader_df = reader_df,\n",
    "  model_df = model_df,\n",
    "  threshold_1 = ai_performance_bandpass$low_band_threshold,\n",
    "  threshold_2 = ai_performance_bandpass$high_band_threshold,\n",
    "  seed = 1234\n",
    ")\n",
    "band_pass_result$system_performance"
   ]
  },
  {
   "cell_type": "code",
   "execution_count": null,
   "id": "cc015373-220c-47ac-9001-6f0ba18e07de",
   "metadata": {
    "flow": {
     "color": "#a8dadc",
     "component_id": "cc015373-220c-47ac-9001-6f0ba18e07de",
     "component_name": "Write to file: AI band-pass scenario",
     "parents_name": [
      "AI band-pass scenario"
     ],
     "time_elapsed": 205255,
     "timestamp_completion": "2024-03-09T22:09:44.703Z",
     "timestamp_execution": "2024-03-09T22:06:19.448Z",
     "updated": false
    },
    "jupyter": {
     "source_hidden": true
    }
   },
   "outputs": [],
   "source": [
    "#Write to file: AI band-pass scenario\n",
    "save_RDS(band_pass_result,\n",
    "         output(\"simulation_band_pass.RDS\"),\n",
    "         \"Simulation result of the band-pass scenario\")"
   ]
  },
  {
   "cell_type": "code",
   "execution_count": null,
   "id": "c6af4b8a-df66-4add-82e6-8b2eb5529468",
   "metadata": {
    "flow": {
     "color": "#264653",
     "component_id": "c6af4b8a-df66-4add-82e6-8b2eb5529468",
     "component_name": "AI band-pass scenario (Extension 1 - Audit)",
     "parents_name": [
      "AI band-pass scenario (group)"
     ],
     "time_elapsed": 240372,
     "timestamp_completion": "2024-03-28T06:47:29.333Z",
     "timestamp_execution": "2024-03-28T06:43:28.961Z",
     "updated": false
    },
    "jupyter": {
     "source_hidden": true
    },
    "scrolled": true
   },
   "outputs": [],
   "source": [
    "#AI band-pass scenario (Extension 1 - Audit)\n",
    "set.seed(1234)\n",
    "ai_performance_bandpass <- readRDS(output(\"AI_performance_bandpass.RDS\"))\n",
    "model_l_branch_tdf <- apply_manufacturer_threshold(model_df, ai_performance_bandpass$low_band_threshold)\n",
    "model_u_branch_tdf <- apply_manufacturer_threshold(model_df, ai_performance_bandpass$high_band_threshold)\n",
    "\n",
    "iter <- 10\n",
    "s <- seq(0, 1, 0.025)\n",
    "res_band_pass_audit_all_readers = do.call(rbind, purrr::map(1:iter, function(idx) {\n",
    "    message(\"Processing: \", idx, \" / \", iter)\n",
    "    cbind(p = s,\n",
    "    do.call(rbind, purrr::map(s, function(p) {\n",
    "        model_q_tdf <- apply_manufacturer_threshold(model_df, ai_performance$threshold)\n",
    "        res <- AI_band_pass_audit_all_readers(accession_df, reader_df, model_l_branch_tdf, model_u_branch_tdf, model_q_tdf,\n",
    "                                  scores = model_q_tdf |> select(episode_id, episode_prediction),\n",
    "                                  probs = c(p, p, 0, 0), require_sim = p > 0, custom = custom)\n",
    "        data.frame(scenario_summary(res)$performance)\n",
    "    }))\n",
    "    )\n",
    "}))\n",
    "res_band_pass_audit_all_readers"
   ]
  },
  {
   "cell_type": "code",
   "execution_count": null,
   "id": "fa77d486-8c7d-4583-a794-e49af86dbe93",
   "metadata": {
    "flow": {
     "color": "#264653",
     "component_id": "fa77d486-8c7d-4583-a794-e49af86dbe93",
     "component_name": "AI band-pass scenario (Extension 2 - Learn)",
     "parents_name": [
      "AI band-pass scenario (group)"
     ],
     "time_elapsed": 681880,
     "timestamp_completion": "2024-03-28T06:55:03.938Z",
     "timestamp_execution": "2024-03-28T06:43:42.058Z",
     "updated": false
    },
    "jupyter": {
     "source_hidden": true
    },
    "scrolled": true
   },
   "outputs": [],
   "source": [
    "#AI band-pass scenario (Extension 2 - Learn)\n",
    "set.seed(1234)\n",
    "ai_performance_bandpass <- readRDS(output(\"AI_performance_bandpass.RDS\"))\n",
    "ai_performance_bandpass$low_band_threshold\n",
    "ai_performance_bandpass$high_band_threshold\n",
    "\n",
    "model_l_branch_tdf <- apply_manufacturer_threshold(model_df, ai_performance_bandpass$low_band_threshold)\n",
    "model_u_branch_tdf <- apply_manufacturer_threshold(model_df, ai_performance_bandpass$high_band_threshold)\n",
    "\n",
    "model_df |>\n",
    "    group_by(manufacturer) |>\n",
    "    summarise(thresholds = quantile(episode_prediction, 0.98)) |>\n",
    "    IRdisplay::display()\n",
    "\n",
    "\n",
    "iter <- 10\n",
    "s <- seq(0, 1, 0.025)\n",
    "res_band_pass_learn_plus_all_readers = do.call(rbind, purrr::map(1:iter, function(idx) {\n",
    "    message(\"Processing: \", idx, \" / \", iter)\n",
    "    cbind(p = s,\n",
    "    do.call(rbind, purrr::map(s, function(p) {\n",
    "        model_q_tdf <- apply_manufacturer_threshold(model_df, ai_performance$threshold)\n",
    "        res <- AI_band_pass_learn_all_readers(accession_df, reader_df, model_l_branch_tdf, model_u_branch_tdf, model_q_tdf,\n",
    "                                  probs = c(p, p, 0, 0), method = \"correction\", \n",
    "                                  require_sim = p > 0 && p < 1, custom = custom)\n",
    "        data.frame(scenario_summary(res)$performance)\n",
    "    }))\n",
    "    )\n",
    "}))\n",
    "res_band_pass_learn_plus_all_readers\n",
    "\n",
    "\n",
    "res_band_pass_learn_minus_all_readers = do.call(rbind, purrr::map(1:iter, function(idx) {\n",
    "    message(\"Processing: \", idx, \" / \", iter)\n",
    "    cbind(p = s,\n",
    "    do.call(rbind, purrr::map(s, function(p) {\n",
    "        model_q_tdf <- apply_manufacturer_threshold(model_df, ai_performance$threshold)\n",
    "        res <- AI_band_pass_learn_all_readers(accession_df, reader_df, model_l_branch_tdf, model_u_branch_tdf, model_q_tdf,\n",
    "                                  probs = c(p, p, 0, 0), method = \"error\", \n",
    "                                  require_sim = p > 0 && p < 1, custom = custom)\n",
    "        data.frame(scenario_summary(res)$performance)\n",
    "    }))\n",
    "    )\n",
    "}))\n",
    "res_band_pass_learn_minus_all_readers"
   ]
  },
  {
   "cell_type": "code",
   "execution_count": null,
   "id": "14afe9ff-e10c-4c91-ae44-dcb3cef2c55f",
   "metadata": {
    "flow": {
     "color": "#e9c46a",
     "component_id": "14afe9ff-e10c-4c91-ae44-dcb3cef2c55f",
     "component_name": "AI band-pass scenario (Extension) [Plot]",
     "parents_name": [
      "AI band-pass scenario (Extension 1 - Audit)",
      "AI band-pass scenario (Extension 2 - Learn)"
     ],
     "time_elapsed": 676785,
     "timestamp_completion": "2024-03-28T06:55:05.208Z",
     "timestamp_execution": "2024-03-28T06:43:48.423Z",
     "updated": false
    },
    "jupyter": {
     "source_hidden": true
    },
    "scrolled": true
   },
   "outputs": [],
   "source": [
    "#AI band-pass scenario (Extension) [Plot]\n",
    "save <- TRUE\n",
    "options(repr.plot.width = 12, repr.plot.height = 10)\n",
    "par(las = 1)\n",
    "plot(roc(model_df), cex.axis = 1.5, main = \"Band-Pass human-AI interaction\",\n",
    "     xlim = c(1, 0.7), ylim = c(0.7, 1),\n",
    "     mar = c(5.1, 6.1, 4.1, 2.1),\n",
    "     cex.lab = 1.5,\n",
    "     mgp = c(4, 1, 0))\n",
    "\n",
    "with(res_band_pass_audit_all_readers, points(TNR, TPR, cex = 1, col = \"brown\", pch = 19))\n",
    "with(res_band_pass_learn_plus_all_readers, points(TNR, TPR, cex = 1, col = \"green\", pch = 19))\n",
    "with(res_band_pass_learn_minus_all_readers, points(TNR, TPR, cex = 1, col = \"red\", pch = 19))\n",
    "\n",
    "# Baseline band-pass\n",
    "res_bp <- readRDS(output(\"simulation_band_pass.RDS\"))\n",
    "with(res_bp$system_performance,\n",
    "     points(TNR, TPR, pch = 15, col = \"green\", cex = 3))\n",
    "\n",
    "# Consensus point\n",
    "res_baseline <- baseline(accession_df, reader_df)\n",
    "with(scenario_summary(res_baseline)$performance,\n",
    "     points(TNR, TPR, pch = 15, col = \"red\", cex = 3))\n",
    "\n",
    "legend(\"bottomright\", c(\"Consensus\", \"Band-pass (no interaction)\", \"Band-pass (Audit)\", \"Band-pass (Learn+)\", \"Band-pass (Learn-)\"), \n",
    "       col = c(\"red\", \"green\", \"brown\", \"green\", \"red\"), \n",
    "       pch = c(15, 15, 19, 19, 19))\n",
    "\n",
    "\n",
    "# Extract data\n",
    "plot_bp_extension <- rbind(\n",
    "    cbind(name = \"audit\", res_band_pass_audit_all_readers),\n",
    "    cbind(name = \"learn_plus\", res_band_pass_learn_plus_all_readers),\n",
    "    cbind(name = \"learn_minus\", res_band_pass_learn_minus_all_readers)\n",
    ")\n",
    "plot_bp_extension\n",
    "\n",
    "plot_band_pass_extension <- plot_bp_extension\n",
    "if (save) write.csv(plot_band_pass_extension, output(\"plot_band_pass_extension.csv\"), row.names = FALSE)\n",
    "\n",
    "plot_band_pass_extension_extra <- cbind(\n",
    "    name = c(\"band-pass\", \"baseline\"),\n",
    "    rbind(\n",
    "      res_bp$system_performance,\n",
    "      scenario_summary(res_baseline)$performance\n",
    "    )\n",
    ")\n",
    "if (save) write.csv(plot_band_pass_extension_extra, output(\"plot_band_pass_extension_extra.csv\"), row.names = FALSE)"
   ]
  },
  {
   "cell_type": "markdown",
   "id": "2147a053-f70e-4c52-afa6-7e5c9bebda05",
   "metadata": {},
   "source": [
    "### AI replacement scenario"
   ]
  },
  {
   "cell_type": "code",
   "execution_count": null,
   "id": "b66e25a2-1ea8-421d-87a7-14c5b8adb401",
   "metadata": {
    "flow": {
     "color": "#e76f51",
     "component_id": "b66e25a2-1ea8-421d-87a7-14c5b8adb401",
     "component_name": "AI replacement scenario (group)",
     "parents_name": [
      "Scenario analysis"
     ],
     "time_elapsed": 460,
     "timestamp_completion": "2024-03-26T17:30:49.862Z",
     "timestamp_execution": "2024-03-26T17:30:49.402Z",
     "updated": false
    },
    "jupyter": {
     "source_hidden": true
    }
   },
   "outputs": [],
   "source": [
    "#AI replacement scenario (group)\n",
    "# Organising block"
   ]
  },
  {
   "cell_type": "code",
   "execution_count": null,
   "id": "6d8ea8df-7eca-40e4-a339-e32d890fc62e",
   "metadata": {
    "flow": {
     "color": "#264653",
     "component_id": "6d8ea8df-7eca-40e4-a339-e32d890fc62e",
     "component_name": "AI replacement scenario (with bootstrap)",
     "parents_name": [
      "AI replacement scenario (group)"
     ],
     "time_elapsed": 923,
     "timestamp_completion": "2024-03-18T23:38:44.778Z",
     "timestamp_execution": "2024-03-18T23:38:43.855Z",
     "updated": false
    },
    "jupyter": {
     "source_hidden": true
    },
    "scrolled": true
   },
   "outputs": [],
   "source": [
    "#AI replacement scenario (with bootstrap)\n",
    "result <- run_simulation(\n",
    "  run_AI_replacement,\n",
    "  accession_df = accession_df,\n",
    "  reader_df = reader_df,\n",
    "  model_df = model_df,\n",
    "  threshold = ai_performance$threshold,\n",
    "  seed = 1234,\n",
    "  custom = c(emp_fpr_3rd, emp_tpr_3rd, emp_tpr_3rd, emp_fpr_3rd, emp_fpr_3rd)\n",
    ")\n",
    "\n",
    "result_n <- run_simulation_bootstrap(\n",
    "  run_AI_replacement,\n",
    "  accession_df = accession_df,\n",
    "  reader_df = reader_df,\n",
    "  model_df = model_df,\n",
    "  threshold = ai_performance$threshold,\n",
    "  custom = c(emp_fpr_3rd, emp_tpr_3rd, emp_tpr_3rd, emp_fpr_3rd, emp_fpr_3rd),\n",
    "  run_parallel = FALSE,\n",
    "  seed = 1234,\n",
    "  bootstrap_n = 1000\n",
    ")"
   ]
  },
  {
   "cell_type": "code",
   "execution_count": null,
   "id": "d539ca84-a5f3-4cdb-9ee9-d6647a1d79c7",
   "metadata": {
    "flow": {
     "color": "#a8dadc",
     "component_id": "d539ca84-a5f3-4cdb-9ee9-d6647a1d79c7",
     "component_name": "Write to file: AI replacement scenario (with bootstrap)",
     "parents_name": [
      "AI replacement scenario (with bootstrap)"
     ],
     "time_elapsed": 1391451,
     "timestamp_completion": "2024-03-10T04:45:03.200Z",
     "timestamp_execution": "2024-03-10T04:21:51.749Z",
     "updated": false
    },
    "jupyter": {
     "source_hidden": true
    }
   },
   "outputs": [],
   "source": [
    "#Write to file: AI replacement scenario (with bootstrap)\n",
    "saveRDS(result_n, output(\"simulation_replacement_original.RDS\"))"
   ]
  },
  {
   "cell_type": "code",
   "execution_count": null,
   "id": "0086050c-e1a5-42d2-8817-819221b433b3",
   "metadata": {
    "flow": {
     "color": "#264653",
     "component_id": "0086050c-e1a5-42d2-8817-819221b433b3",
     "component_name": "AI replacement scenario (Extension: human-AI interaction)",
     "parents_name": [
      "AI replacement scenario (group)"
     ],
     "time_elapsed": 17640,
     "timestamp_completion": "2024-03-10T06:07:30.537Z",
     "timestamp_execution": "2024-03-10T06:07:12.897Z",
     "updated": false
    },
    "jupyter": {
     "source_hidden": true
    },
    "scrolled": true
   },
   "outputs": [],
   "source": [
    "#AI replacement scenario (Extension: human-AI interaction)\n",
    "# Extension: Human-AI interaction\n",
    "props <- seq(-1, 1, 0.2)\n",
    "result_n_interaction <- AI_replacement_human_ai_interaction_bootstrap(\n",
    "  props,\n",
    "  accession_df = accession_df,\n",
    "  reader_df = reader_df,\n",
    "  model_df = model_df,\n",
    "  threshold = ai_performance$threshold,\n",
    "  custom = c(emp_fpr_3rd, emp_tpr_3rd, emp_tpr_3rd, emp_fpr_3rd, emp_fpr_3rd),\n",
    "  bootstrap_n = 1000,\n",
    "  seed = 1234,\n",
    "  run_parallel = FALSE\n",
    ")"
   ]
  },
  {
   "cell_type": "code",
   "execution_count": null,
   "id": "7650c17a-4efe-423b-8c7a-aeb721557c79",
   "metadata": {
    "flow": {
     "color": "#a8dadc",
     "component_id": "7650c17a-4efe-423b-8c7a-aeb721557c79",
     "component_name": "Write to file: AI replacement scenario (Extension: human-AI interaction)",
     "parents_name": [
      "AI replacement scenario (Extension: human-AI interaction)"
     ],
     "updated": false
    },
    "jupyter": {
     "source_hidden": true
    }
   },
   "outputs": [],
   "source": [
    "#Write to file: AI replacement scenario (Extension: human-AI interaction)\n",
    "saveRDS(result_n_interaction, output(\"simulation_replacement_original_interaction.RDS\"))"
   ]
  },
  {
   "cell_type": "code",
   "execution_count": null,
   "id": "91cee744-6d93-495a-80ae-f2ca94360eea",
   "metadata": {
    "flow": {
     "color": "#264653",
     "component_id": "91cee744-6d93-495a-80ae-f2ca94360eea",
     "component_name": "AI replacement scenario (Extension: audit + learn)",
     "parents_name": [
      "AI replacement scenario (group)"
     ],
     "time_elapsed": 943395,
     "timestamp_completion": "2024-03-28T07:19:03.426Z",
     "timestamp_execution": "2024-03-28T07:03:20.031Z",
     "updated": false
    },
    "jupyter": {
     "source_hidden": true
    },
    "scrolled": true
   },
   "outputs": [],
   "source": [
    "#AI replacement scenario (Extension: audit + learn)\n",
    "set.seed(1234)\n",
    "iter <- 10\n",
    "s <- seq(0, 1, 0.025)\n",
    "\n",
    "message(\"AI independent audit\")\n",
    "res_AI_independent_audit_summary <- do.call(rbind, purrr::map(1:iter, function(idx) {\n",
    "    message(\"Processing: \", idx, \" / \", iter) \n",
    "    cbind(iter = idx, p = s,\n",
    "    do.call(rbind, purrr::map(s, function(p) {\n",
    "        model_tdf <- apply_manufacturer_threshold(model_df, ai_performance$threshold)\n",
    "        res <- AI_independent_audit(accession_df, reader_df, model_tdf, \n",
    "                                    scores = model_tdf |> select(episode_id, episode_prediction),\n",
    "                                    probs = c(p, p, 0, 0), custom)\n",
    "        data.frame(scenario_summary(res)$performance)\n",
    "    }))\n",
    "    )\n",
    "}))\n",
    "res_AI_independent_audit_summary\n",
    "\n",
    "message(\"AI independent learn+\")\n",
    "res_AI_independent_learn_plus_summary <- do.call(rbind, purrr::map(1:iter, function(idx) {\n",
    "    message(\"Processing: \", idx, \" / \", iter) \n",
    "    cbind(iter = idx, p = s,\n",
    "    do.call(rbind, purrr::map(s, function(p) {\n",
    "        model_tdf <- apply_manufacturer_threshold(model_df, ai_performance$threshold)\n",
    "        res <- AI_independent_learn(accession_df, reader_df, model_tdf, \n",
    "                                    probs = c(p, p, 0, 0), \"correction\", custom) \n",
    "        data.frame(scenario_summary(res)$performance)\n",
    "    }))\n",
    "    )\n",
    "}))\n",
    "res_AI_independent_learn_plus_summary\n",
    "\n",
    "message(\"AI independent learn-\")\n",
    "res_AI_independent_learn_minus_summary <- do.call(rbind, purrr::map(1:iter, function(idx) {\n",
    "    message(\"Processing: \", idx, \" / \", iter) \n",
    "    cbind(iter = idx, p = s,\n",
    "    do.call(rbind, purrr::map(s, function(p) {\n",
    "        model_tdf <- apply_manufacturer_threshold(model_df, ai_performance$threshold)\n",
    "        res <- AI_independent_learn(accession_df, reader_df, model_tdf, \n",
    "                                    probs = c(p, p, 0, 0), \"error\", custom)\n",
    "        data.frame(scenario_summary(res)$performance)\n",
    "    }))\n",
    "    )\n",
    "}))\n",
    "res_AI_independent_learn_minus_summary"
   ]
  },
  {
   "cell_type": "code",
   "execution_count": null,
   "id": "3670f18f-6b1a-4cbd-8644-4891b4bb2d45",
   "metadata": {
    "flow": {
     "color": "#e9c46a",
     "component_id": "3670f18f-6b1a-4cbd-8644-4891b4bb2d45",
     "component_name": "AI replacement scenario (Extension) [Plot]",
     "parents_name": [
      "AI replacement scenario (Extension: audit + learn)"
     ],
     "time_elapsed": 930999,
     "timestamp_completion": "2024-03-28T07:19:04.452Z",
     "timestamp_execution": "2024-03-28T07:03:33.453Z",
     "updated": false
    },
    "jupyter": {
     "source_hidden": true
    },
    "scrolled": true
   },
   "outputs": [],
   "source": [
    "#AI replacement scenario (Extension) [Plot]\n",
    "save <- TRUE\n",
    "options(repr.plot.width = 12, repr.plot.height = 10)\n",
    "par(las = 1)\n",
    "plot(roc(model_df), cex.axis = 1.5, \n",
    "     main = \"Replacement human-AI interaction\",\n",
    "     xlim = c(1, 0.7), ylim = c(0.7, 1.0),\n",
    "     mar = c(5.1, 6.1, 4.1, 2.1),\n",
    "     cex.lab = 1.5,\n",
    "     mgp = c(4, 1, 0))\n",
    "\n",
    "pt_size <- 1\n",
    "with(res_AI_independent_learn_plus_summary, {\n",
    "    points(TNR, TPR, col = \"green\", pch = 19, cex = pt_size)\n",
    "})\n",
    "\n",
    "with(res_AI_independent_audit_summary, {\n",
    "    points(TNR, TPR, col = \"brown\", pch = 19, cex = pt_size)\n",
    "})\n",
    "\n",
    "with(res_AI_independent_learn_minus_summary, {\n",
    "    # lines(TNR, TPR)\n",
    "    points(TNR, TPR, col = \"red\", pch = 19, cex = pt_size)\n",
    "})\n",
    "\n",
    "res_repl <- readRDS(output(\"simulation_replacement_original.RDS\"))\n",
    "with(data.frame(lapply(res_repl$performance, mean)),\n",
    "     points(TNR, TPR, col = \"purple\", pch = 15, cex = 3))\n",
    "\n",
    "# Consensus point\n",
    "res_baseline <- baseline(accession_df, reader_df)\n",
    "with(scenario_summary(res_baseline)$performance,\n",
    "     points(TNR, TPR, pch = 15, col = \"red\", cex = 3))\n",
    "\n",
    "legend(\n",
    "    \"bottomright\", \n",
    "    c(\"Consensus\", \n",
    "      \"Replacement (no interaction)\", \n",
    "      \"Replacement (Audit)\",\n",
    "      \"Replacement (Learn+)\",\n",
    "      \"Replacement (Learn-)\"),\n",
    "    col = c(\"red\", \"purple\", \"brown\", \"green\", \"red\"),\n",
    "    pch = c(15, 15, 19, 19, 19),\n",
    "    cex = 1\n",
    ")\n",
    "\n",
    "\n",
    "# Extract data\n",
    "plot_replacement_extension <- rbind(\n",
    "    cbind(name = \"audit\", res_AI_independent_audit_summary),\n",
    "    cbind(name = \"learn_plus\", res_AI_independent_learn_plus_summary),\n",
    "    cbind(name = \"learn_minus\", res_AI_independent_learn_minus_summary)\n",
    ")\n",
    "plot_replacement_extension\n",
    "if (save) write.csv(plot_replacement_extension, output(\"plot_replacement_extension.csv\"), row.names = FALSE)\n",
    "\n",
    "plot_replacement_extension_extra <- cbind(\n",
    "    name = c(\"replacement\", \"baseline\"),\n",
    "    rbind(\n",
    "      data.frame(lapply(res_repl$performance, mean)),\n",
    "      scenario_summary(res_baseline)$performance\n",
    "    )\n",
    ")\n",
    "if (save) write.csv(plot_replacement_extension_extra, output(\"plot_replacement_extension_extra.csv\"), row.names = FALSE)"
   ]
  },
  {
   "cell_type": "markdown",
   "id": "c73ee772-06cb-4006-8061-8665de7ddffb",
   "metadata": {},
   "source": [
    "### AI triage (MASAI) scenario"
   ]
  },
  {
   "cell_type": "code",
   "execution_count": null,
   "id": "7941a6bf-3b2f-4466-bae4-fddfe30d564e",
   "metadata": {
    "flow": {
     "color": "#e76f51",
     "component_id": "7941a6bf-3b2f-4466-bae4-fddfe30d564e",
     "component_name": "Triage scenario (group)",
     "parents_name": [
      "Scenario analysis"
     ],
     "time_elapsed": 1006,
     "timestamp_completion": "2024-04-03T00:35:57.177Z",
     "timestamp_execution": "2024-04-03T00:35:56.171Z",
     "updated": false
    },
    "jupyter": {
     "source_hidden": true
    }
   },
   "outputs": [],
   "source": [
    "#Triage scenario (group)\n",
    "model_df_dev <- readRDS(output(\"model_df-dev.RDS\"))\n",
    "\n",
    "# # Some basic check\n",
    "quantile(model_df_dev$episode_prediction, 0.9)\n",
    "quantile(model_df$episode_prediction, 0.9)\n",
    "sum(model_df$episode_prediction < 0.0959783851896646)  # dev\n",
    "sum(model_df$episode_prediction < 0.0951128885848447)  # test\n",
    "table(model_df_dev$manufacturer)\n",
    "table(model_df$manufacturer)"
   ]
  },
  {
   "cell_type": "code",
   "execution_count": null,
   "id": "6d6e6299-1ac9-405c-b2f0-006964699de5",
   "metadata": {
    "flow": {
     "color": "#264653",
     "component_id": "6d6e6299-1ac9-405c-b2f0-006964699de5",
     "component_name": "Triage (MASAI) scenario",
     "parents_name": [
      "Triage scenario (group)"
     ],
     "time_elapsed": 42985,
     "timestamp_completion": "2024-04-03T00:38:04.077Z",
     "timestamp_execution": "2024-04-03T00:37:21.092Z",
     "updated": false
    },
    "jupyter": {
     "source_hidden": true
    },
    "scrolled": true
   },
   "outputs": [],
   "source": [
    "#Triage (MASAI) scenario\n",
    "set.seed(1234)\n",
    "thr <- get_manufacturer_quantile_threshold(model_df_dev, q = 0.9)\n",
    "model_tdf <- apply_manufacturer_threshold(model_df, thr)\n",
    "\n",
    "res_masai <- AI_masai(accession_df, reader_df, model_tdf, 0.5)\n",
    "data.frame(scenario_summary(res_masai)$performance)\n",
    "\n",
    "res_masai_multiple <- {\n",
    "    res_masai <- AI_masai(accession_df, reader_df, model_tdf, 0.5)\n",
    "    data.frame(scenario_summary(res_masai)$performance)\n",
    "} |> \n",
    "    quote() |> \n",
    "    multiple_seeded_runs(seeds[1:100]) |>\n",
    "    do_rbind()\n",
    "res_masai_multiple"
   ]
  },
  {
   "cell_type": "code",
   "execution_count": null,
   "id": "b6557e53-62b2-4edc-9010-4c8c49d7d53d",
   "metadata": {
    "flow": {
     "color": "#a8dadc",
     "component_id": "b6557e53-62b2-4edc-9010-4c8c49d7d53d",
     "component_name": "Write to file: Triage (MASAI) scenario",
     "parents_name": [
      "Triage (MASAI) scenario"
     ],
     "time_elapsed": 404,
     "timestamp_completion": "2024-04-03T00:38:11.934Z",
     "timestamp_execution": "2024-04-03T00:38:11.530Z",
     "updated": false
    },
    "jupyter": {
     "source_hidden": true
    }
   },
   "outputs": [],
   "source": [
    "#Write to file: Triage (MASAI) scenario\n",
    "saveRDS(res_masai, output(\"simulation_masai.RDS\"))\n",
    "saveRDS(res_masai_multiple, output(\"simulation_masai_multiple.RDS\"))"
   ]
  },
  {
   "cell_type": "code",
   "execution_count": null,
   "id": "e4c8ab5e-b198-40da-8b6d-2b1ac003278d",
   "metadata": {
    "flow": {
     "color": "#264653",
     "component_id": "e4c8ab5e-b198-40da-8b6d-2b1ac003278d",
     "component_name": "Triage scenario (Extension - Learn from AI+)",
     "parents_name": [
      "Triage scenario (group)"
     ],
     "time_elapsed": 4606208,
     "timestamp_completion": "2024-04-03T01:56:47.592Z",
     "timestamp_execution": "2024-04-03T00:40:01.384Z",
     "updated": false
    },
    "jupyter": {
     "source_hidden": true
    },
    "scrolled": true
   },
   "outputs": [],
   "source": [
    "#Triage scenario (Extension - Learn from AI+)\n",
    "set.seed(1234)\n",
    "# All readers modification\n",
    "iter <- 10\n",
    "ps <- seq(0, 1, 0.025)\n",
    "res_masai_improve_summary_all_readers <- do.call(rbind, purrr::map(1:iter, function(idx) {\n",
    "    message(\"Processing: \", idx, \" / \", iter) \n",
    "    cbind(p = ps,\n",
    "    do.call(rbind, purrr::map(ps, function(p) {\n",
    "        thr <- get_manufacturer_quantile_threshold(model_df_dev, 0.9)\n",
    "        model_tdf_branch <- apply_manufacturer_threshold(model_df, thr)\n",
    "        model_tdf_flip <- apply_manufacturer_threshold(model_df, ai_performance$threshold)\n",
    "        res <- AI_masai_learn_from_AI_all_readers(accession_df, reader_df, model_tdf_branch, model_tdf_flip, \n",
    "                                                  probs = c(p, p, 0, 0), method = \"correction\",\n",
    "                                                  require_sim = (p != 0) && (p != 1), custom = custom)\n",
    "        data.frame(scenario_summary(res)$performance)\n",
    "    }))\n",
    "    )\n",
    "}))\n",
    "res_masai_improve_summary_all_readers\n",
    "save_RDS(res_masai_improve_summary_all_readers, output(\"res_masai_improve_summary_all_readers.RDS\"))"
   ]
  },
  {
   "cell_type": "code",
   "execution_count": null,
   "id": "cf465f3b-4779-4bfa-b4c0-e93c59189cef",
   "metadata": {
    "flow": {
     "color": "#264653",
     "component_id": "cf465f3b-4779-4bfa-b4c0-e93c59189cef",
     "component_name": "Triage scenario (Extension - Learn from AI-)",
     "parents_name": [
      "Triage scenario (group)"
     ],
     "time_elapsed": 4592420,
     "timestamp_completion": "2024-04-03T01:56:29.851Z",
     "timestamp_execution": "2024-04-03T00:39:57.431Z",
     "updated": false
    },
    "jupyter": {
     "source_hidden": true
    },
    "scrolled": true
   },
   "outputs": [],
   "source": [
    "#Triage scenario (Extension - Learn from AI-)\n",
    "set.seed(1234)\n",
    "iter <- 10\n",
    "ps <- seq(0, 1, 0.025)\n",
    "res_masai_deteriorate_summary_all_readers <- do.call(rbind, purrr::map(1:iter, function(idx) {\n",
    "    message(\"Processing: \", idx, \" / \", iter) \n",
    "    cbind(p = ps,\n",
    "    do.call(rbind, purrr::map(ps, function(p) {\n",
    "        thr <- get_manufacturer_quantile_threshold(model_df_dev, 0.9)\n",
    "        model_tdf_branch <- apply_manufacturer_threshold(model_df, thr)\n",
    "        model_tdf_flip <- apply_manufacturer_threshold(model_df, ai_performance$threshold)\n",
    "        res <- AI_masai_learn_from_AI_all_readers(accession_df, reader_df, model_tdf_branch, model_tdf_flip, \n",
    "                                                  probs = c(p, p, 0, 0), method = \"error\",\n",
    "                                                  require_sim = (p != 0) && (p != 1), custom = custom)\n",
    "        data.frame(scenario_summary(res)$performance)\n",
    "    }))\n",
    "    )\n",
    "}))\n",
    "round(res_masai_deteriorate_summary_all_readers, 4)\n",
    "save_RDS(res_masai_deteriorate_summary_all_readers, output(\"res_masai_deteriorate_summary_all_readers.RDS\"))"
   ]
  },
  {
   "cell_type": "code",
   "execution_count": null,
   "id": "45c6e205-2600-4cbe-9ed2-3ae547d4cc06",
   "metadata": {
    "flow": {
     "color": "#264653",
     "component_id": "45c6e205-2600-4cbe-9ed2-3ae547d4cc06",
     "component_name": "Triage scenario (Extension - Audit)",
     "parents_name": [
      "Triage scenario (group)"
     ],
     "time_elapsed": 471908,
     "timestamp_completion": "2024-04-03T00:47:09.297Z",
     "timestamp_execution": "2024-04-03T00:39:17.389Z",
     "updated": false
    },
    "jupyter": {
     "source_hidden": true
    },
    "scrolled": true
   },
   "outputs": [],
   "source": [
    "#Triage scenario (Extension - Audit)\n",
    "set.seed(1234)\n",
    "ps <- seq(0, 1, 0.025)\n",
    "iter <- 10\n",
    "res_masai_audit_summary_all_readers <- do.call(rbind, purrr::map(1:iter, function(idx) {\n",
    "    message(\"Processing: \", idx, \" / \", iter) \n",
    "    cbind(p = ps,\n",
    "    do.call(rbind, purrr::map(ps, function(p) {\n",
    "        thr <- get_manufacturer_quantile_threshold(model_df_dev, 0.9)\n",
    "        model_tdf_branch <- apply_manufacturer_threshold(model_df, thr)\n",
    "        model_tdf_flip <- apply_manufacturer_threshold(model_df, ai_performance$threshold)\n",
    "        res <- AI_masai_audit_AI_all_readers(accession_df, reader_df, model_tdf_branch, model_tdf_flip, \n",
    "                                     # scores = model_df |> select(episode_id, episode_prediction),\n",
    "                                     scores = model_tdf_flip |> select(episode_id, episode_prediction),\n",
    "                                     probs = c(p, p, 0, 0), require_sim = (p > 0), custom = custom)\n",
    "        data.frame(scenario_summary(res)$performance)\n",
    "    }))\n",
    "    )\n",
    "}))\n",
    "res_masai_audit_summary_all_readers\n",
    "save_RDS(res_masai_audit_summary_all_readers, output(\"res_masai_audit_summary_all_readers.RDS\"))"
   ]
  },
  {
   "cell_type": "code",
   "execution_count": null,
   "id": "1e3b24ea-98b7-4bae-86db-9c532f77d4dd",
   "metadata": {
    "flow": {
     "color": "#e9c46a",
     "component_id": "1e3b24ea-98b7-4bae-86db-9c532f77d4dd",
     "component_name": "Triage scenario (Extension) [Plot]",
     "parents_name": [
      "Triage scenario (Extension - Learn from AI+)",
      "Triage scenario (Extension - Learn from AI-)",
      "Triage scenario (Extension - Audit)",
      "Triage (MASAI) scenario"
     ],
     "time_elapsed": 1934,
     "timestamp_completion": "2024-04-03T01:57:03.260Z",
     "timestamp_execution": "2024-04-03T01:57:01.326Z",
     "updated": false
    },
    "jupyter": {
     "source_hidden": true
    },
    "scrolled": true
   },
   "outputs": [],
   "source": [
    "#Triage scenario (Extension) [Plot]\n",
    "save <- TRUE\n",
    "res_masai <- readRDS(output(\"simulation_masai.RDS\"))\n",
    "res_masai_multiple <- readRDS(output(\"simulation_masai_multiple.RDS\"))\n",
    "\n",
    "options(repr.plot.width = 12, repr.plot.height = 10)\n",
    "par(las = 1)\n",
    "plot(roc(model_df), cex.axis = 1.5, \n",
    "     main = \"Triage human-AI interaction\",\n",
    "     xlim = c(1, 0.7), ylim = c(0.7, 1.0),\n",
    "     mar = c(5.1, 6.1, 4.1, 2.1),\n",
    "     cex.lab = 1.5,\n",
    "     mgp = c(4, 1, 0))\n",
    "\n",
    "with(res_masai_improve_summary_all_readers, {\n",
    "    points(TNR, TPR, col = \"green\", pch = 19, cex = 1)\n",
    "})\n",
    "\n",
    "with(res_masai_deteriorate_summary_all_readers, {\n",
    "    points(TNR, TPR, col = \"red\", pch = 19, cex = 1)\n",
    "})\n",
    "\n",
    "with(res_masai_audit_summary_all_readers, {\n",
    "    points(TNR, TPR, col = \"brown\", pch = 19, cex = 1)\n",
    "})\n",
    "\n",
    "legend(\n",
    "    \"bottomright\", \n",
    "    c(\"Consensus\", \n",
    "      \"Triage (no interaction)\", \n",
    "      \"Triage (Audit)\",\n",
    "      \"Triage (Learn+)\",\n",
    "      \"Triage (Learn-)\"),\n",
    "    col = c(\"black\", \"orange\", \"brown\", \"green\", \"red\"),\n",
    "    pch = c(15, 15, 19, 19, 19),\n",
    "    cex = 1\n",
    ")\n",
    "\n",
    "# MASAI baseline\n",
    "with(scenario_summary(res_masai)$performance,\n",
    "     points(TNR, TPR, col = \"orange\", pch = 15, cex = 3))\n",
    "\n",
    "# Consensus point\n",
    "res_baseline <- baseline(accession_df, reader_df)\n",
    "with(scenario_summary(res_baseline)$performance,\n",
    "     points(TNR, TPR, pch = 15, col = \"black\", cex = 3))\n",
    "\n",
    "\n",
    "\n",
    "# Extract data\n",
    "plot_masai_extension <- rbind(\n",
    "    cbind(name = \"audit\", res_masai_audit_summary_all_readers),\n",
    "    cbind(name = \"learn_plus\", res_masai_improve_summary_all_readers),\n",
    "    cbind(name = \"learn_minus\", res_masai_deteriorate_summary_all_readers)\n",
    ")\n",
    "plot_masai_extension\n",
    "\n",
    "plot_masai_extension_extra <- cbind(\n",
    "    name = c(\"triage\", \"baseline\"),\n",
    "    rbind(\n",
    "      scenario_summary(res_masai)$performance,\n",
    "      scenario_summary(res_baseline)$performance\n",
    "    )\n",
    ")\n",
    "\n",
    "plot_masai_extension_extra_2 <- cbind(\n",
    "    name = \"triage\",\n",
    "    res_masai_multiple\n",
    ")\n",
    "\n",
    "if (save) {\n",
    "    write.csv(plot_masai_extension, \n",
    "              output(\"plot_masai_extension.csv\"), row.names = FALSE)\n",
    "    write.csv(plot_masai_extension_extra, \n",
    "              output(\"plot_masai_extension_extra.csv\"), row.names = FALSE)\n",
    "    write.csv(plot_masai_extension_extra_2, \n",
    "              output(\"plot_masai_extension_extra_2.csv\"), row.names = FALSE)\n",
    "}"
   ]
  },
  {
   "cell_type": "markdown",
   "id": "19d2e4cb-1690-4696-b79e-a90ddf10b061",
   "metadata": {},
   "source": [
    "### Single reader and Sequential readers"
   ]
  },
  {
   "cell_type": "code",
   "execution_count": null,
   "id": "1db9cf54-50a8-42cf-9fc9-b6b9f5693ee8",
   "metadata": {
    "flow": {
     "color": "#264653",
     "component_id": "1db9cf54-50a8-42cf-9fc9-b6b9f5693ee8",
     "component_name": "AI Single - Learn and Audit",
     "parents_name": [
      "Scenario analysis"
     ],
     "time_elapsed": 490688,
     "timestamp_completion": "2024-03-28T07:56:39.156Z",
     "timestamp_execution": "2024-03-28T07:48:28.468Z",
     "updated": false
    },
    "jupyter": {
     "source_hidden": true
    }
   },
   "outputs": [],
   "source": [
    "#AI Single - Learn and Audit\n",
    "model_tdf <- model_df |> apply_manufacturer_threshold(ai_performance$threshold)\n",
    "ps <- seq(0, 1, 0.025)\n",
    "iter <- 10\n",
    "save <- TRUE\n",
    "\n",
    "\n",
    "set.seed(1234)\n",
    "res_single <- do.call(rbind, purrr::map(1:iter, function(idx) {\n",
    "    message(\"Processing: \", idx, \" / \", iter) \n",
    "    cbind(iter = idx, p = ps,\n",
    "    do.call(rbind, purrr::map(ps, function(p) {\n",
    "        res <- AI_single(accession_df, reader_df)\n",
    "        data.frame(scenario_summary(res)$performance)\n",
    "    }))\n",
    "    )\n",
    "}))\n",
    "if (save) write.csv(res_single, output(\"res_single.csv\"), row.names = FALSE)\n",
    "\n",
    "\n",
    "set.seed(1234)\n",
    "res_single_learn_plus <- do.call(rbind, purrr::map(1:iter, function(idx) {\n",
    "    message(\"Processing: \", idx, \" / \", iter) \n",
    "    cbind(iter = idx, p = ps,\n",
    "    do.call(rbind, purrr::map(ps, function(p) {\n",
    "        res <- AI_single_learn(accession_df, reader_df, model_tdf, probs = c(p, p, 0, 0), \"correction\")\n",
    "        data.frame(scenario_summary(res)$performance)\n",
    "    }))\n",
    "    )\n",
    "}))\n",
    "if (save) write.csv(res_single_learn_plus, output(\"res_single_learn_plus.csv\"), row.names = FALSE)\n",
    "\n",
    "\n",
    "set.seed(1234)\n",
    "res_single_learn_minus <- do.call(rbind, purrr::map(1:iter, function(idx) {\n",
    "    message(\"Processing: \", idx, \" / \", iter) \n",
    "    cbind(iter = idx, p = ps,\n",
    "    do.call(rbind, purrr::map(ps, function(p) {\n",
    "        res <- AI_single_learn(accession_df, reader_df, model_tdf, probs = c(p, p, 0, 0), \"error\")\n",
    "        data.frame(scenario_summary(res)$performance)\n",
    "    }))\n",
    "    )\n",
    "}))\n",
    "if (save) write.csv(res_single_learn_minus, output(\"res_single_learn_minus.csv\"), row.names = FALSE)\n",
    "\n",
    "\n",
    "set.seed(1234)\n",
    "res_single_audit <- do.call(rbind, purrr::map(1:iter, function(idx) {\n",
    "    message(\"Processing: \", idx, \" / \", iter) \n",
    "    cbind(iter = idx, p = ps,\n",
    "    do.call(rbind, purrr::map(ps, function(p) {\n",
    "        # res <- AI_single_audit(accession_df, reader_df, model_tdf, scores = model_df, probs = c(p, p, 0, 0))\n",
    "        res <- AI_single_audit(accession_df, reader_df, model_tdf, scores = model_tdf, probs = c(p, p, 0, 0))\n",
    "        data.frame(scenario_summary(res)$performance)\n",
    "    }))\n",
    "    )\n",
    "}))\n",
    "if (save) write.csv(res_single_audit, output(\"res_single_audit.csv\"), row.names = FALSE)\n"
   ]
  },
  {
   "cell_type": "code",
   "execution_count": null,
   "id": "7ae8c0b3-00d2-44f1-a3ab-8fc4eeec5dc5",
   "metadata": {
    "jupyter": {
     "source_hidden": true
    },
    "scrolled": true
   },
   "outputs": [],
   "source": [
    "# Load files from previous runs\n",
    "res_single <- read.csv(output(\"res_single.csv\"))\n",
    "res_single_learn_plus <- read.csv(output(\"res_single_learn_plus.csv\"))\n",
    "res_single_learn_minus <- read.csv(output(\"res_single_learn_minus.csv\"))\n",
    "res_single_audit <- read.csv(output(\"res_single_audit.csv\"))"
   ]
  },
  {
   "cell_type": "code",
   "execution_count": null,
   "id": "9491278e-bd7f-4106-b3ee-3898498219ef",
   "metadata": {
    "flow": {
     "color": "#e9c46a",
     "component_id": "9491278e-bd7f-4106-b3ee-3898498219ef",
     "component_name": "AI Single - Learn and Audit [Plot]",
     "parents_name": [
      "AI Single - Learn and Audit"
     ],
     "time_elapsed": 1597,
     "timestamp_completion": "2024-03-28T07:56:50.929Z",
     "timestamp_execution": "2024-03-28T07:56:49.332Z",
     "updated": false
    },
    "jupyter": {
     "source_hidden": true
    },
    "scrolled": true
   },
   "outputs": [],
   "source": [
    "#AI Single - Learn and Audit [Plot]\n",
    "# Create plots for the AI single\n",
    "save <- TRUE\n",
    "options(repr.plot.width = 12, repr.plot.height = 10)\n",
    "par(las = 1)\n",
    "plot(roc(model_df), cex.axis = 1.5, \n",
    "     main = \"Single human-AI interaction\",\n",
    "     xlim = c(1, 0.7), ylim = c(0.5, 1.0),\n",
    "     mar = c(5.1, 6.1, 4.1, 2.1),\n",
    "     cex.lab = 1.5,\n",
    "     mgp = c(4, 1, 0))\n",
    "\n",
    "pt_size <- 1\n",
    "with(res_single_learn_plus, {\n",
    "    points(TNR, TPR, col = \"green\", pch = 19, cex = pt_size)\n",
    "})\n",
    "\n",
    "with(res_single_audit, {\n",
    "    points(TNR, TPR, col = \"brown\", pch = 19, cex = pt_size)\n",
    "})\n",
    "\n",
    "with(res_single_learn_minus, {\n",
    "    points(TNR, TPR, col = \"red\", pch = 19, cex = pt_size)\n",
    "})\n",
    "\n",
    "with(res_single, {\n",
    "    points(TNR, TPR, col = \"black\", cex = pt_size)\n",
    "})\n",
    "\n",
    "# Consensus point\n",
    "res_baseline <- baseline(accession_df, reader_df)\n",
    "with(scenario_summary(res_baseline)$performance,\n",
    "     points(TNR, TPR, pch = 15, col = \"red\", cex = 3))\n",
    "\n",
    "legend(\n",
    "    \"bottomright\", \n",
    "    c(\"Consensus\", \n",
    "      \"Average Reader (weighted)\", \n",
    "      \"Single (Audit)\",\n",
    "      \"Single (Learn+)\",\n",
    "      \"Single (Learn-)\",\n",
    "      \"Single (AI replacement)\"\n",
    "    ),\n",
    "    col = c(\"red\", \"black\", \"brown\", \"green\", \"red\", \"purple\"),\n",
    "    pch = c(15, 19, 19, 19, 19, 19),\n",
    "    cex = 1\n",
    ")\n",
    "\n",
    "\n",
    "res_weighted <- readRDS(output(\"reader_performance.RDS\"))\n",
    "\n",
    "pt_size <- 2\n",
    "with(res_weighted$mean_reader,\n",
    "     points(1 - weighted_fpr, weighted_tpr, pch = 19, cex = pt_size))\n",
    "\n",
    "repl_op <- readRDS(output(\"AI_performance.RDS\"))\n",
    "with(\n",
    "  model_df |>\n",
    "    apply_manufacturer_threshold(repl_op$threshold) |>\n",
    "    confusion_matrix() |>\n",
    "    data.frame(),\n",
    "  points(TNR, TPR, pch = 19, col = \"purple\", cex = pt_size)\n",
    ")\n",
    "\n",
    "\n",
    "# Extract data\n",
    "plot_single_extension <- rbind(\n",
    "    cbind(name = \"standalone\", res_single),\n",
    "    cbind(name = \"audit\", res_single_audit),\n",
    "    cbind(name = \"learn_plus\", res_single_learn_plus),\n",
    "    cbind(name = \"learn_minus\", res_single_learn_minus)\n",
    ")\n",
    "plot_single_extension\n",
    "\n",
    "if (save) write.csv(plot_single_extension, output(\"plot_single_extension.csv\"), row.names = FALSE)"
   ]
  },
  {
   "cell_type": "markdown",
   "id": "c5116476-ee5c-4949-8ae0-30e7d8211277",
   "metadata": {},
   "source": [
    "## Tables and Figures"
   ]
  },
  {
   "cell_type": "markdown",
   "id": "150c6246-bbbd-4523-bc11-08bbffeccf1d",
   "metadata": {},
   "source": [
    "### Result summary"
   ]
  },
  {
   "cell_type": "code",
   "execution_count": null,
   "id": "00acbd5f-1cb9-4bd5-9e96-b65718cdaafd",
   "metadata": {
    "flow": {
     "color": "#f4a261",
     "component_id": "00acbd5f-1cb9-4bd5-9e96-b65718cdaafd",
     "component_name": "Table: Prediction by decile scores",
     "parents_name": [
      "Model / Data summary"
     ],
     "time_elapsed": 2082,
     "timestamp_completion": "2024-03-14T14:44:18.156Z",
     "timestamp_execution": "2024-03-14T14:44:16.074Z",
     "updated": false
    },
    "jupyter": {
     "source_hidden": true
    },
    "scrolled": true
   },
   "outputs": [],
   "source": [
    "#Table: Prediction by decile scores\n",
    "model_df <- readRDS(output(\"model_df.RDS\"))\n",
    "qs <- quantile(model_df$episode_prediction, seq(0.1, 1, 0.1))\n",
    "\n",
    "binned_model_pred <- model_df |>\n",
    "  mutate(binned_score = case_when(\n",
    "    episode_prediction <= qs[1] ~ 1,\n",
    "    episode_prediction <= qs[2] ~ 2,\n",
    "    episode_prediction <= qs[3] ~ 3,\n",
    "    episode_prediction <= qs[4] ~ 4,\n",
    "    episode_prediction <= qs[5] ~ 5,\n",
    "    episode_prediction <= qs[6] ~ 6,\n",
    "    episode_prediction <= qs[7] ~ 7,\n",
    "    episode_prediction <= qs[8] ~ 8,\n",
    "    episode_prediction <= qs[9] ~ 9,\n",
    "    episode_prediction <= qs[10] ~ 10,\n",
    "  ))\n",
    "\n",
    "\n",
    "# Quantile\n",
    "# qs\n",
    "\n",
    "\n",
    "# Binned scores\n",
    "# binned_model_pred |>\n",
    "#   select(episode_id, episode_outcome, episode_prediction, binned_score)\n",
    "\n",
    "\n",
    "binned_counts <- binned_model_pred |>\n",
    "  group_by(binned_score, episode_outcome) |>\n",
    "  summarise(count = n()) |>\n",
    "  group_by(episode_outcome) |>\n",
    "  mutate(total = sum(count),\n",
    "         weight = count / total,\n",
    "         weighted_score = weight * binned_score) |>\n",
    "  arrange(episode_outcome)\n",
    "\n",
    "\n",
    "binned_counts |>\n",
    "  print(n = 100)\n",
    "\n",
    "\n",
    "table_1_df <- binned_counts |>\n",
    "  tidyr::pivot_wider(id_cols = binned_score,\n",
    "                     values_from = count,\n",
    "                     names_from = episode_outcome)\n",
    "table_1_df[is.na(table_1_df)] <- 0\n",
    "# table_1_df\n",
    "\n",
    "for (i in 2:6) {\n",
    "  col_i <- table_1_df[, i][[1]]\n",
    "  percent <- round(col_i / sum(col_i) * 100 , 1)\n",
    "  table_1_df[, i] <- paste(col_i, \" (\", percent, \")\", sep = \"\")\n",
    "}\n",
    "# table_1_df\n",
    "table_1_df <- table_1_df[, c(\"binned_score\", \"1\", \"2\", \"0\", \"3\", \"4\")]\n",
    "colnames(table_1_df) <- c(\n",
    "  \"Binned AI reader scores\",\n",
    "  \"Screen-detected cancer\",\n",
    "  \"Interval cancer\",\n",
    "  \"Normal\",\n",
    "  \"Benign\",\n",
    "  \"NSA\")\n",
    "table_1_df\n",
    "\n",
    "\n",
    "table_1_LaTeX <- xtable::xtable(table_1_df)\n",
    "table_1_LaTeX |> print()"
   ]
  },
  {
   "cell_type": "code",
   "execution_count": null,
   "id": "6f41f91e-d031-4e70-8e46-308c5d08ae92",
   "metadata": {
    "flow": {
     "color": "#f4a261",
     "component_id": "6f41f91e-d031-4e70-8e46-308c5d08ae92",
     "component_name": "Table: Scenario summary table",
     "parents_name": [
      "Write to file: AI band-pass scenario",
      "Write to file: AI replacement scenario (with bootstrap)",
      "Write to file: Triage (MASAI) scenario"
     ],
     "time_elapsed": 4468,
     "timestamp_completion": "2024-03-26T17:30:55.827Z",
     "timestamp_execution": "2024-03-26T17:30:51.359Z",
     "updated": false
    },
    "jupyter": {
     "source_hidden": true
    },
    "scrolled": true
   },
   "outputs": [],
   "source": [
    "#Table: Scenario summary table\n",
    "# Baseline, Reader replacement, bandpass and MASAI\n",
    "res_baseline <- baseline(accession_df, reader_df)\n",
    "res_baseline_econ <- BRAIxMOP:::baseline_economics(scenario_summary(res_baseline))\n",
    "\n",
    "res_repl <- readRDS(output(\"simulation_replacement_original.RDS\"))\n",
    "\n",
    "res_bp <- readRDS(output(\"simulation_band_pass.RDS\"))\n",
    "\n",
    "res_masai <- readRDS(output(\"simulation_masai.RDS\"))\n",
    "res_masai_econ <- BRAIxMOP:::masai_economics(scenario_summary(res_masai))\n",
    "\n",
    "message(\"Generating LaTeX table\")\n",
    "table_2(\n",
    "  cbind(baseline_summary_col(res_baseline_econ),\n",
    "        repl_summary_col(res_repl, res_baseline_econ),\n",
    "        bp_summary_col(res_bp$system_econ_table),\n",
    "        masai_summary_col(res_masai_econ, res_baseline_econ))\n",
    ") |> cat()"
   ]
  },
  {
   "cell_type": "code",
   "execution_count": null,
   "id": "87f7e4d2-3580-4013-a8e4-5b6b3ee2ac1b",
   "metadata": {
    "flow": {
     "color": "#e9c46a",
     "component_id": "87f7e4d2-3580-4013-a8e4-5b6b3ee2ac1b",
     "component_name": "Figure: Individual ROC curve",
     "parents_name": [
      "Model / Data summary"
     ],
     "time_elapsed": 390311,
     "timestamp_completion": "2024-03-28T02:16:15.567Z",
     "timestamp_execution": "2024-03-28T02:09:45.256Z",
     "updated": false
    },
    "jupyter": {
     "source_hidden": true
    }
   },
   "outputs": [],
   "source": [
    "#Figure: Individual ROC curve\n",
    "model_df <- readRDS(output(\"model_df.RDS\"))\n",
    "reader_df <- readRDS(output(\"reader_df.RDS\"))\n",
    "accession_df <- readRDS(output(\"accession_df.RDS\"))\n",
    "\n",
    "# Base plot\n",
    "par(las = 1)\n",
    "options(repr.plot.width = 11, repr.plot.height = 10)\n",
    "plot(roc(model_df), type = 'n')\n",
    "\n",
    "# Readers points\n",
    "res_reader <- get_reader_performance(reader_df)\n",
    "point_size <- 100   # use 10 for example data\n",
    "with(res_reader,\n",
    "     points(TNR, TPR, cex = point_size * (1 + P + N) / sum(P + N),\n",
    "            col = 'lightgray'))\n",
    "\n",
    "# ROC curve\n",
    "lines(roc(model_df))\n",
    "\n",
    "# Consensus point\n",
    "res_baseline <- baseline(accession_df, reader_df)\n",
    "with(scenario_summary(res_baseline)$performance,\n",
    "     points(TNR, TPR, pch = 15, col = \"red\"))\n",
    "\n",
    "# Weighted reader point\n",
    "res_weighted <- readRDS(output(\"reader_performance.RDS\"))\n",
    "with(res_weighted$mean_reader,\n",
    "     points(1 - weighted_fpr, weighted_tpr, pch = 19))"
   ]
  },
  {
   "cell_type": "code",
   "execution_count": null,
   "id": "47c5eb40-14fa-4931-8e99-3d52e109720e",
   "metadata": {
    "flow": {
     "color": "#e9c46a",
     "component_id": "47c5eb40-14fa-4931-8e99-3d52e109720e",
     "component_name": "Figure 2: Flowcharts",
     "parents_name": [
      "Table: Scenario summary table"
     ],
     "time_elapsed": 525,
     "timestamp_completion": "2024-03-10T21:48:55.537Z",
     "timestamp_execution": "2024-03-10T21:48:55.012Z",
     "updated": false
    },
    "jupyter": {
     "source_hidden": true
    },
    "scrolled": true
   },
   "outputs": [],
   "source": [
    "#Figure 2: Flowcharts\n",
    "# Figure 2: Flowcharts =========================================================\n",
    "cat(flowchart_A(res_baseline))\n",
    "cat(flowchart_B(res_repl))\n",
    "cat(flowchart_C(res_bp))\n",
    "cat(flowchart_D(res_masai))"
   ]
  },
  {
   "cell_type": "code",
   "execution_count": null,
   "id": "92c03b2a-a85a-40d4-a28c-d9747d6b4b21",
   "metadata": {
    "flow": {
     "color": "#e9c46a",
     "component_id": "92c03b2a-a85a-40d4-a28c-d9747d6b4b21",
     "component_name": "Figure 3: Scenario ROC curve (data)",
     "parents_name": [
      "Table: Scenario summary table"
     ],
     "time_elapsed": 17417,
     "timestamp_completion": "2024-03-25T13:26:48.958Z",
     "timestamp_execution": "2024-03-25T13:26:31.541Z",
     "updated": false
    },
    "jupyter": {
     "source_hidden": true
    },
    "scrolled": true
   },
   "outputs": [],
   "source": [
    "#Figure 3: Scenario ROC curve (data)\n",
    "# Figure 3: Scenario ROC curve =================================================\n",
    "# System curve - Replacement, band-pass, MASAI\n",
    "# MASAI\n",
    "s <- c(seq(0, 0.9, 0.05), seq(0.91, 0.99, 0.005), seq(0.991, 1, 0.001)) \n",
    "res_masai_curve <- masai_curve(s)\n",
    "write.csv(res_masai_curve, file = output(\"curve_masai.csv\"), row.names = FALSE)\n",
    "\n",
    "\n",
    "# Band-pass scenario\n",
    "reader_df_dev <- readRDS(output(\"reader_df-dev.RDS\"))\n",
    "consensus_dev <- reader_df_dev |>\n",
    "  filter(reader_number == 1) |>\n",
    "  get_consensus_performance()\n",
    "res_bp_thr <- get_ai_threshold_and_performance_bandpass(\n",
    "  readRDS(output(\"model_df.RDS\")),\n",
    "  consensus_dev,\n",
    "  NULL,\n",
    "  readRDS(output(\"accession_df.RDS\")),\n",
    "  readRDS(output(\"reader_df.RDS\")),\n",
    "  seq(0, 0.99, 0.02)\n",
    ")\n",
    "\n",
    "# Compute efficient boundary\n",
    "res_bp_curve <- eff(res_bp_thr$search_log)\n",
    "write.csv(res_bp_curve, file = output(\"curve_bandpass.csv\"), row.names = FALSE)\n",
    "\n",
    "\n",
    "# Replacement scenario\n",
    "specs <- c(seq(0, 0.99, 0.01), seq(0.991, 0.995, 0.001))  # use `specs <- seq(0, 0.99, 0.04)` for example data\n",
    "res_repl_curve <- data.frame(do.call(rbind, lapply(\n",
    "  specs,\n",
    "  function(spec) {\n",
    "     result <- run_simulation(\n",
    "       run_AI_replacement,\n",
    "       accession_df = accession_df,\n",
    "       reader_df = reader_df,\n",
    "       model_df = model_df,\n",
    "       threshold = find_manufacturer_threshold_matching(model_df, \"specificities\", spec),\n",
    "       seed = 1234,\n",
    "       custom = custom\n",
    "     )\n",
    "     unlist(result$system_econ)\n",
    "  }\n",
    ")))\n",
    "\n",
    "write.csv(res_repl_curve, file = output(\"curve_replacement.csv\"), row.names = FALSE)"
   ]
  },
  {
   "cell_type": "code",
   "execution_count": null,
   "id": "e9a4baaf-0e3d-4d1c-aa52-4a2b2e35e188",
   "metadata": {
    "flow": {
     "color": "#e9c46a",
     "component_id": "e9a4baaf-0e3d-4d1c-aa52-4a2b2e35e188",
     "component_name": "Figure 3: Scenario ROC curve (plot)",
     "parents_name": [
      "Figure 3: Scenario ROC curve (data)"
     ],
     "updated": false
    },
    "jupyter": {
     "source_hidden": true
    }
   },
   "outputs": [],
   "source": [
    "#Figure 3: Scenario ROC curve (plot)\n",
    "# Figure 3: Scenario ROC curve =================================================\n",
    "temp <- list()\n",
    "res_weighted <- readRDS(output(\"reader_performance.RDS\"))\n",
    "\n",
    "pt_size <- 2\n",
    "plot(roc(model_df), lty = 3, xlim = c(1, 0.6), ylim = c(0.6, 1))\n",
    "with(res_weighted$mean_reader,\n",
    "     points(1 - weighted_fpr, weighted_tpr, pch = 19, cex = pt_size))\n",
    "\n",
    "repl_op <- readRDS(output(\"AI_performance.RDS\"))\n",
    "with(\n",
    "  temp$plot_repl_op <- model_df |>\n",
    "    apply_manufacturer_threshold(repl_op$threshold) |>\n",
    "    confusion_matrix() |>\n",
    "    data.frame(),\n",
    "  points(TNR, TPR, pch = 19, col = \"green\", cex = pt_size)\n",
    ")\n",
    "\n",
    "bp_op <- readRDS(output(\"AI_performance_bandpass.RDS\"))\n",
    "with(\n",
    "  temp$plot_bp_op_low <- model_df |>\n",
    "    apply_manufacturer_threshold(bp_op$low_band_threshold) |>\n",
    "    confusion_matrix() |>\n",
    "    data.frame(),\n",
    "  points(TNR, TPR, pch = 19, col = \"purple\", cex = pt_size)\n",
    ")\n",
    "with(\n",
    "  temp$plot_bp_op_high <- model_df |>\n",
    "    apply_manufacturer_threshold(bp_op$high_band_threshold) |>\n",
    "    confusion_matrix() |>\n",
    "    data.frame(),\n",
    "  points(TNR, TPR, pch = 19, col = \"purple\", cex = pt_size)\n",
    ")\n",
    "\n",
    "# Add scenario points\n",
    "with(temp$plot_repl_perf <- data.frame(t(colMeans(res_repl$performance))),\n",
    "     points(TNR, TPR, pch = 15, col = \"green\", cex = pt_size))\n",
    "\n",
    "with(temp$plot_bp <- res_bp$system_performance,\n",
    "     points(TNR, TPR, pch = 15, col = \"purple\", cex = pt_size))\n",
    "\n",
    "with(temp$plot_consensus <- scenario_summary(res_baseline)$performance,\n",
    "     points(TNR, TPR, pch = 15, col = \"red\", cex = pt_size))\n",
    "\n",
    "with(temp$plot_masai <- scenario_summary(res_masai)$performance,\n",
    "     points(TNR, TPR, pch = 15, col = \"orange\", cex = pt_size))\n",
    "\n",
    "legend(\"bottomright\",\n",
    "       c(\"Weighted mean reader\", \"AI replacement operating point\", \"AI bandpass operating points\",\n",
    "         \"Consensus\", \"AI replacement scenario\", \"AI band-pass scenario\", \"MASAI\"),\n",
    "       pch = c(19, 19, 19, 15, 15, 15, 15),\n",
    "       col = c(\"black\", \"green\", \"purple\",\n",
    "               \"red\", \"green\", \"purple\", \"orange\"))\n",
    "\n",
    "\n",
    "result_df <- data.frame(rbind(\n",
    "  c(\"Weighted Mean Reader\",\n",
    "    1 - res_weighted$mean_reader$weighted_fpr,\n",
    "    res_weighted$mean_reader$weighted_tpr),\n",
    "  c(\"Replacement OP\",\n",
    "    temp$plot_repl_op$TNR,\n",
    "    temp$plot_repl_op$TPR),\n",
    "  c(\"Band-pass OP low\",\n",
    "    temp$plot_bp_op_low$TNR,\n",
    "    temp$plot_bp_op_low$TPR),\n",
    "  c(\"Band-pass OP high\",\n",
    "    temp$plot_bp_op_high$TNR,\n",
    "    temp$plot_bp_op_high$TPR),\n",
    "  c(\"Censensus\",\n",
    "    temp$plot_consensus$TNR,\n",
    "    temp$plot_consensus$TPR),\n",
    "  c(\"Replacement\",\n",
    "    temp$plot_repl_perf$TNR,\n",
    "    temp$plot_repl_perf$TPR),\n",
    "  c(\"Band-pass\",\n",
    "    temp$plot_bp$TNR,\n",
    "    temp$plot_bp$TPR),\n",
    "  c(\"MASAI\",\n",
    "    temp$plot_masai$TNR,\n",
    "    temp$plot_masai$TPR)\n",
    "))\n",
    "colnames(result_df) <- c(\"desc\", \"TNR\", \"TPR\")\n",
    "result_df\n",
    "write.csv(result_df, file = output(\"scenario_roc.csv\"), row.names = FALSE)\n",
    "\n",
    "\n",
    "res_masai_curve <- read.csv(output(\"curve_masai.csv\"))\n",
    "lines(res_masai_curve$benefit_rate.TN, res_masai_curve$benefit_rate.TP,\n",
    "      col = \"orange\")\n",
    "\n",
    "\n",
    "res_bp_curve <- read.csv(output(\"curve_bandpass.csv\"))\n",
    "lines(res_bp_curve$TNR, res_bp_curve$TPR, col = \"purple\")\n",
    "lines(c(1, max(res_bp_curve$TNR)), c(0, min(res_bp_curve$TPR)), col = \"purple\")\n",
    "\n",
    "\n",
    "res_repl_curve <- read.csv(output(\"curve_replacement.csv\"))\n",
    "local({\n",
    "  with(res_repl_curve, {\n",
    "    TNR <- benefit_rate.TN\n",
    "    TPR <- benefit_rate.TP\n",
    "    lines(TNR, TPR, col = \"green\")\n",
    "    lines(c(1, max(TNR)), c(0, min(TPR)), col = \"green\")\n",
    "    lines(c(0, min(TNR)), c(1, max(TPR)), col = \"green\")\n",
    "  })\n",
    "})"
   ]
  },
  {
   "cell_type": "code",
   "execution_count": null,
   "id": "83679a51-faee-43ee-97e2-2e2e7fd27f89",
   "metadata": {
    "flow": {
     "color": "#e9c46a",
     "component_id": "83679a51-faee-43ee-97e2-2e2e7fd27f89",
     "component_name": "Figure 3: Scenario ROC curve (multiple evaluations)",
     "parents_name": [
      "Figure 3: Scenario ROC curve (data)"
     ],
     "time_elapsed": 14246926,
     "timestamp_completion": "2024-03-26T21:28:24.616Z",
     "timestamp_execution": "2024-03-26T17:30:57.690Z",
     "updated": false
    },
    "jupyter": {
     "source_hidden": true
    },
    "scrolled": true
   },
   "outputs": [],
   "source": [
    "#Figure 3: Scenario ROC curve (multiple evaluations)\n",
    "# System curve - Replacement, band-pass\n",
    "# Band-pass scenario [does not require multiple evaluations]\n",
    "# Replacement scenario\n",
    "specs <- c(seq(0, 0.99, 0.01), seq(0.991, 0.995, 0.001))  # use `specs <- seq(0, 0.99, 0.04)` for example data\n",
    "n_iter <- 50\n",
    "res_repl_curve_multiple <- specs |> lapply(function(spec) {\n",
    "    message(\"Processing: \", spec)\n",
    "    suppressMessages({\n",
    "        threshold <- find_manufacturer_threshold_matching(model_df, \"specificities\", spec)\n",
    "    })\n",
    "    pb <- txtProgressBar(0, n_iter, style = 3)\n",
    "    1:n_iter |> lapply(function(iter) {\n",
    "        setTxtProgressBar(pb, value = iter)\n",
    "        suppressMessages({\n",
    "            result <- run_simulation(\n",
    "                run_AI_replacement,\n",
    "                accession_df = accession_df,\n",
    "                reader_df = reader_df,\n",
    "                model_df = model_df,\n",
    "                threshold = threshold,\n",
    "                seed = seeds[iter],\n",
    "                custom = custom\n",
    "            )\n",
    "        })\n",
    "        unlink(paste0(normalizePath(tempdir()), \"/\", dir(tempdir())), recursive=TRUE)\n",
    "        cbind(iter = iter, spec = spec, data.frame(result$system_econ))\n",
    "    }) |> do_rbind()\n",
    "}) |>\n",
    "    do_rbind() |>\n",
    "    data.frame()"
   ]
  },
  {
   "cell_type": "code",
   "execution_count": null,
   "id": "dc9c57dc-025b-4a22-a608-a0d72c137876",
   "metadata": {},
   "outputs": [],
   "source": [
    "res_repl_curve_multiple\n",
    "write.csv(res_repl_curve_multiple, file = output(\"res_repl_curve_multiple.csv\"), row.names = FALSE)"
   ]
  },
  {
   "cell_type": "code",
   "execution_count": null,
   "id": "17fa892e-204a-4e03-b4fb-123c68811e5f",
   "metadata": {},
   "outputs": [],
   "source": [
    "# Confirm there is no variation between runs for band-pass\n",
    "write.csv(res_bp_curve_multiple, file = output(\"res_bp_curve_multiple.csv\"), row.names = FALSE)\n",
    "res_bp_curve_multiple <- read.csv(output(\"res_bp_curve_multiple.csv\"))\n",
    "res_bp_curve_multiple |> filter(iter == 1) |> head()\n",
    "res_bp_curve_multiple |> filter(iter == 2) |> head()"
   ]
  },
  {
   "cell_type": "code",
   "execution_count": null,
   "id": "ddb1a8d4-f8b0-415e-8308-19bb75fe055a",
   "metadata": {
    "flow": {
     "color": "#e9c46a",
     "component_id": "ddb1a8d4-f8b0-415e-8308-19bb75fe055a",
     "component_name": "Supplementary Table: scenario details",
     "parents_name": [
      "Table: Scenario summary table"
     ],
     "time_elapsed": 195,
     "timestamp_completion": "2024-03-10T21:49:35.051Z",
     "timestamp_execution": "2024-03-10T21:49:34.856Z",
     "updated": false
    },
    "scrolled": true
   },
   "outputs": [],
   "source": [
    "#Supplementary Table: scenario details\n",
    "# Supplementary Table: scenario details ========================================\n",
    "supp_table_repl(colMeans(res_repl$econ), res_baseline_econ) |> cat()\n",
    "supp_table_bp(res_bp$system_econ, res_baseline_econ) |> cat()\n",
    "supp_table_masai(res_masai_econ, res_baseline_econ) |> cat()"
   ]
  },
  {
   "cell_type": "code",
   "execution_count": null,
   "id": "e05e65b8-e7a4-45d0-b216-e404c357e8c2",
   "metadata": {
    "flow": {
     "color": "#e9c46a",
     "component_id": "e05e65b8-e7a4-45d0-b216-e404c357e8c2",
     "component_name": "Supplementary Table: sensitivity analysis",
     "parents_name": [
      "AI replacement scenario (with bootstrap)"
     ],
     "updated": false
    },
    "jupyter": {
     "source_hidden": true
    }
   },
   "outputs": [],
   "source": [
    "#Supplementary Table: sensitivity analysis\n",
    "# Supplementary Table: sensitivity analysis ====================================\n",
    "# Second reader arbiter\n",
    "second_reader_result <- run_simulation(\n",
    "  BRAIxMOP:::run_AI_replacement_second_reader_arbiter,\n",
    "  accession_df = accession_df,\n",
    "  reader_df = reader_df,\n",
    "  model_df = model_df,\n",
    "  threshold = ai_performance$threshold,\n",
    "  seed = 1234,\n",
    "  custom = c(emp_fpr_3rd, emp_tpr_3rd, emp_tpr_3rd, emp_fpr_3rd, emp_fpr_3rd)\n",
    ")\n",
    "\n",
    "second_reader_result_n <- run_simulation_bootstrap(\n",
    "  BRAIxMOP:::run_AI_replacement_second_reader_arbiter,\n",
    "  accession_df = accession_df,\n",
    "  reader_df = reader_df,\n",
    "  model_df = model_df,\n",
    "  threshold = ai_performance$threshold,\n",
    "  custom = c(emp_fpr_3rd, emp_tpr_3rd, emp_tpr_3rd, emp_fpr_3rd, emp_fpr_3rd),\n",
    "  run_parallel = FALSE,\n",
    "  mc.cores = 4,\n",
    "  seed = 1234,\n",
    "  bootstrap_n = 1000\n",
    ")\n",
    "\n",
    "save_RDS(second_reader_result_n,\n",
    "         output(\"simulation_replacement_second_reader_arbiter.RDS\"),\n",
    "         \"Simulation result of the replacement scenario with second reader arbiter\")\n",
    "\n",
    "\n",
    "# Mixed third reader\n",
    "mixed_third_result <- run_simulation(\n",
    "  BRAIxMOP:::run_AI_replacement_mixed_third_reader,\n",
    "  accession_df = accession_df,\n",
    "  reader_df = reader_df,\n",
    "  model_df = model_df,\n",
    "  threshold = ai_performance$threshold,\n",
    "  seed = 1234,\n",
    "  custom = c(emp_fpr_3rd, emp_tpr_3rd, emp_tpr_3rd, emp_fpr_3rd, emp_fpr_3rd)\n",
    ")\n",
    "\n",
    "mixed_third_result_n <- run_simulation_bootstrap(\n",
    "  BRAIxMOP:::run_AI_replacement_mixed_third_reader,\n",
    "  accession_df = accession_df,\n",
    "  reader_df = reader_df,\n",
    "  model_df = model_df,\n",
    "  threshold = ai_performance$threshold,\n",
    "  custom = c(emp_fpr_3rd, emp_tpr_3rd, emp_tpr_3rd, emp_fpr_3rd, emp_fpr_3rd),\n",
    "  run_parallel = FALSE,\n",
    "  mc.cores = 3,\n",
    "  seed = 1234,\n",
    "  bootstrap_n = 1000\n",
    ")\n",
    "\n",
    "save_RDS(mixed_third_result_n,\n",
    "         output(\"simulation_replacement_mixed_third_reader.RDS\"),\n",
    "         \"Simulation result of the replacement scenario with mixed simulated third reader\")\n",
    "\n",
    "cat(supp_table_sensitivity_test(res_baseline_econ))"
   ]
  },
  {
   "cell_type": "markdown",
   "id": "b4408696-dcdd-4339-acf5-c205e682dc70",
   "metadata": {},
   "source": [
    "### Hypothesis testing"
   ]
  },
  {
   "cell_type": "code",
   "execution_count": null,
   "id": "f384b8de-0d01-41b5-aeea-94b406ad86ca",
   "metadata": {
    "flow": {
     "color": "#e9c46a",
     "component_id": "f384b8de-0d01-41b5-aeea-94b406ad86ca",
     "component_name": "Hypothesis testing: AI-integrative scenario against AI baseline",
     "parents_name": [
      "Table: Scenario summary table"
     ],
     "time_elapsed": 38198,
     "timestamp_completion": "2024-04-10T06:23:12.656Z",
     "timestamp_execution": "2024-04-10T06:22:34.458Z",
     "updated": false
    },
    "jupyter": {
     "source_hidden": true
    },
    "scrolled": true
   },
   "outputs": [],
   "source": [
    "#Hypothesis testing: AI-integrative scenario against AI baseline\n",
    "# Testing superiority / non-inferiority of the AI integrative scenario w.r.t. the AI baseline ----\n",
    "accession_df <- readRDS(output(\"accession_df.RDS\"))\n",
    "reader_df <- readRDS(output(\"reader_df.RDS\"))\n",
    "model_df <- readRDS(output(\"model_df.RDS\"))\n",
    "result_baseline <- baseline(accession_df, reader_df)\n",
    "result_bp <- readRDS(output(\"simulation_band_pass.RDS\"))\n",
    "result_rr <- readRDS(output(\"simulation_replacement_original.RDS\"))\n",
    "result_tr <- readRDS(output(\"simulation_masai.RDS\"))\n",
    "set.seed(1234)\n",
    "result_standalone <- model_df |>\n",
    "    apply_manufacturer_threshold(ai_performance$threshold) |>\n",
    "    select(episode_id, episode_outcome, episode_prediction)\n",
    "\n",
    "\n",
    "# Match the median (Youden) case for Reader Replacement\n",
    "result_rr_median <- local({\n",
    "  # Find the median (Youden) case\n",
    "  result_rr_df0 <- result_rr$performance |>\n",
    "    mutate(idx = 1:1000,\n",
    "           youden = TPR - FPR,\n",
    "           youden_check = TPR + TNR - 1)\n",
    "  yd <- result_rr_df0$youden\n",
    "  stopifnot(any(yd == quantile(yd, 0.5, type = 1)))\n",
    "\n",
    "  median_run <- result_rr_df0 |>\n",
    "    filter(youden == quantile(yd, 0.5, type = 1))\n",
    "  print(median_run)\n",
    "  median_run$idx\n",
    "\n",
    "  # Run the simulation\n",
    "  set.seed(1234)\n",
    "  n <- 1000\n",
    "  multiple_runs_seed <- c(1234, sample(10000000, n - 1))\n",
    "  median_seed <- multiple_runs_seed[median_run$idx]\n",
    "\n",
    "  emp_perf <- get_reader_summary(reader_df)$mean_reader_by_position  # Test performance\n",
    "  emp_tpr_3rd <- emp_perf$weighted_tpr[3]\n",
    "  emp_fpr_3rd <- emp_perf$weighted_fpr[3]\n",
    "\n",
    "  result <- run_simulation(\n",
    "    run_AI_replacement,\n",
    "    accession_df = accession_df,\n",
    "    reader_df = reader_df,\n",
    "    model_df = model_df,\n",
    "    threshold = readRDS(output(\"AI_performance.RDS\"))$threshold,\n",
    "    seed = median_seed,\n",
    "    custom = c(emp_fpr_3rd, emp_tpr_3rd, emp_tpr_3rd, emp_fpr_3rd, emp_fpr_3rd)\n",
    "  )\n",
    "  result\n",
    "})\n",
    "rr_pair <- pair_scenarios(result_baseline, result_rr_median$system_summary$result)\n",
    "bp_pair <- pair_scenarios(result_baseline, result_bp$system_summary$result)\n",
    "tr_pair <- pair_scenarios(result_baseline, result_tr)\n",
    "standalone_pair <- pair_scenarios(result_baseline, result_standalone)\n",
    "\n",
    "\n",
    "# McNemar test\n",
    "run_test(bp_pair)\n",
    "run_test(tr_pair)\n",
    "run_test(rr_pair)\n",
    "run_test(standalone_pair)"
   ]
  }
 ],
 "metadata": {
  "kernelspec": {
   "display_name": "R",
   "language": "R",
   "name": "ir"
  },
  "language_info": {
   "codemirror_mode": "r",
   "file_extension": ".r",
   "mimetype": "text/x-r-source",
   "name": "R",
   "pygments_lexer": "r",
   "version": "4.2.2"
  }
 },
 "nbformat": 4,
 "nbformat_minor": 5
}
